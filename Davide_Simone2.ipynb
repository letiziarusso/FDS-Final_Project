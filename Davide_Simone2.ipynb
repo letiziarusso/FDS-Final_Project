{
 "cells": [
  {
   "cell_type": "code",
   "execution_count": 46,
   "id": "0ae51def",
   "metadata": {},
   "outputs": [],
   "source": [
    "import warnings\n",
    "import matplotlib.pyplot as plt\n",
    "import seaborn as sns\n",
    "import numpy as np \n",
    "import pandas as pd\n",
    "import re\n",
    "import nltk\n",
    "import string\n",
    "import math\n",
    "\n",
    "from matplotlib.colors import ListedColormap\n",
    "from nltk.corpus import stopwords\n",
    "from nltk.tokenize import word_tokenize\n",
    "from nltk.stem import WordNetLemmatizer\n",
    "from sklearn.model_selection import train_test_split, cross_val_score\n",
    "from sklearn.linear_model import LogisticRegression\n",
    "from sklearn.svm import SVC\n",
    "from sklearn.naive_bayes import MultinomialNB\n",
    "from sklearn.neighbors import KNeighborsClassifier\n",
    "from sklearn.metrics import confusion_matrix, roc_curve, roc_auc_score, auc, ConfusionMatrixDisplay, classification_report\n",
    "from sklearn.metrics import precision_score, recall_score, f1_score"
   ]
  },
  {
   "cell_type": "markdown",
   "id": "0244a0d2",
   "metadata": {},
   "source": [
    "# Phase 0 : Exploratory Data Analysis"
   ]
  },
  {
   "cell_type": "code",
   "execution_count": 2,
   "id": "65b60081-2d42-42b7-bdea-d2c71426a65b",
   "metadata": {},
   "outputs": [
    {
     "data": {
      "text/html": [
       "<div>\n",
       "<style scoped>\n",
       "    .dataframe tbody tr th:only-of-type {\n",
       "        vertical-align: middle;\n",
       "    }\n",
       "\n",
       "    .dataframe tbody tr th {\n",
       "        vertical-align: top;\n",
       "    }\n",
       "\n",
       "    .dataframe thead th {\n",
       "        text-align: right;\n",
       "    }\n",
       "</style>\n",
       "<table border=\"1\" class=\"dataframe\">\n",
       "  <thead>\n",
       "    <tr style=\"text-align: right;\">\n",
       "      <th></th>\n",
       "      <th>v1</th>\n",
       "      <th>v2</th>\n",
       "      <th>Unnamed: 2</th>\n",
       "      <th>Unnamed: 3</th>\n",
       "      <th>Unnamed: 4</th>\n",
       "    </tr>\n",
       "  </thead>\n",
       "  <tbody>\n",
       "    <tr>\n",
       "      <th>0</th>\n",
       "      <td>ham</td>\n",
       "      <td>Go until jurong point, crazy.. Available only ...</td>\n",
       "      <td>NaN</td>\n",
       "      <td>NaN</td>\n",
       "      <td>NaN</td>\n",
       "    </tr>\n",
       "    <tr>\n",
       "      <th>1</th>\n",
       "      <td>ham</td>\n",
       "      <td>Ok lar... Joking wif u oni...</td>\n",
       "      <td>NaN</td>\n",
       "      <td>NaN</td>\n",
       "      <td>NaN</td>\n",
       "    </tr>\n",
       "    <tr>\n",
       "      <th>2</th>\n",
       "      <td>spam</td>\n",
       "      <td>Free entry in 2 a wkly comp to win FA Cup fina...</td>\n",
       "      <td>NaN</td>\n",
       "      <td>NaN</td>\n",
       "      <td>NaN</td>\n",
       "    </tr>\n",
       "    <tr>\n",
       "      <th>3</th>\n",
       "      <td>ham</td>\n",
       "      <td>U dun say so early hor... U c already then say...</td>\n",
       "      <td>NaN</td>\n",
       "      <td>NaN</td>\n",
       "      <td>NaN</td>\n",
       "    </tr>\n",
       "    <tr>\n",
       "      <th>4</th>\n",
       "      <td>ham</td>\n",
       "      <td>Nah I don't think he goes to usf, he lives aro...</td>\n",
       "      <td>NaN</td>\n",
       "      <td>NaN</td>\n",
       "      <td>NaN</td>\n",
       "    </tr>\n",
       "  </tbody>\n",
       "</table>\n",
       "</div>"
      ],
      "text/plain": [
       "     v1                                                 v2 Unnamed: 2  \\\n",
       "0   ham  Go until jurong point, crazy.. Available only ...        NaN   \n",
       "1   ham                      Ok lar... Joking wif u oni...        NaN   \n",
       "2  spam  Free entry in 2 a wkly comp to win FA Cup fina...        NaN   \n",
       "3   ham  U dun say so early hor... U c already then say...        NaN   \n",
       "4   ham  Nah I don't think he goes to usf, he lives aro...        NaN   \n",
       "\n",
       "  Unnamed: 3 Unnamed: 4  \n",
       "0        NaN        NaN  \n",
       "1        NaN        NaN  \n",
       "2        NaN        NaN  \n",
       "3        NaN        NaN  \n",
       "4        NaN        NaN  "
      ]
     },
     "execution_count": 2,
     "metadata": {},
     "output_type": "execute_result"
    }
   ],
   "source": [
    "df = pd.read_csv(\"spam.csv\", encoding = \"ISO-8859-1\")\n",
    "df.head()"
   ]
  },
  {
   "cell_type": "code",
   "execution_count": 3,
   "id": "fea59ced",
   "metadata": {},
   "outputs": [
    {
     "data": {
      "text/html": [
       "<div>\n",
       "<style scoped>\n",
       "    .dataframe tbody tr th:only-of-type {\n",
       "        vertical-align: middle;\n",
       "    }\n",
       "\n",
       "    .dataframe tbody tr th {\n",
       "        vertical-align: top;\n",
       "    }\n",
       "\n",
       "    .dataframe thead th {\n",
       "        text-align: right;\n",
       "    }\n",
       "</style>\n",
       "<table border=\"1\" class=\"dataframe\">\n",
       "  <thead>\n",
       "    <tr style=\"text-align: right;\">\n",
       "      <th></th>\n",
       "      <th>Target</th>\n",
       "      <th>Text</th>\n",
       "    </tr>\n",
       "  </thead>\n",
       "  <tbody>\n",
       "    <tr>\n",
       "      <th>0</th>\n",
       "      <td>ham</td>\n",
       "      <td>Go until jurong point, crazy.. Available only ...</td>\n",
       "    </tr>\n",
       "    <tr>\n",
       "      <th>1</th>\n",
       "      <td>ham</td>\n",
       "      <td>Ok lar... Joking wif u oni...</td>\n",
       "    </tr>\n",
       "    <tr>\n",
       "      <th>2</th>\n",
       "      <td>spam</td>\n",
       "      <td>Free entry in 2 a wkly comp to win FA Cup fina...</td>\n",
       "    </tr>\n",
       "    <tr>\n",
       "      <th>3</th>\n",
       "      <td>ham</td>\n",
       "      <td>U dun say so early hor... U c already then say...</td>\n",
       "    </tr>\n",
       "    <tr>\n",
       "      <th>4</th>\n",
       "      <td>ham</td>\n",
       "      <td>Nah I don't think he goes to usf, he lives aro...</td>\n",
       "    </tr>\n",
       "  </tbody>\n",
       "</table>\n",
       "</div>"
      ],
      "text/plain": [
       "  Target                                               Text\n",
       "0    ham  Go until jurong point, crazy.. Available only ...\n",
       "1    ham                      Ok lar... Joking wif u oni...\n",
       "2   spam  Free entry in 2 a wkly comp to win FA Cup fina...\n",
       "3    ham  U dun say so early hor... U c already then say...\n",
       "4    ham  Nah I don't think he goes to usf, he lives aro..."
      ]
     },
     "execution_count": 3,
     "metadata": {},
     "output_type": "execute_result"
    }
   ],
   "source": [
    "# We drop the redundent looking columns\n",
    "unuseful = [\"Unnamed: 2\",\"Unnamed: 3\",\"Unnamed: 4\"]\n",
    "df = df.drop(df[unuseful], axis=1)\n",
    "\n",
    "# We rename the columns in order to make them more understandable\n",
    "df.rename(columns = {\"v1\": \"Target\", \"v2\": \"Text\"}, inplace = True)\n",
    "df.head()"
   ]
  },
  {
   "cell_type": "code",
   "execution_count": 4,
   "id": "7c51f443",
   "metadata": {},
   "outputs": [
    {
     "name": "stdout",
     "output_type": "stream",
     "text": [
      "I'm gonna be home soon and i don't want to talk about this stuff anymore tonight, k? I've cried enough today.\n",
      "WINNER!! As a valued network customer you have been selected to receivea å£900 prize reward! To claim call 09061701461. Claim code KL341. Valid 12 hours only.\n"
     ]
    }
   ],
   "source": [
    "print(df['Text'][10])\n",
    "print(df['Text'][8])"
   ]
  },
  {
   "cell_type": "markdown",
   "id": "3e62d52b",
   "metadata": {},
   "source": [
    "Plot something useful. Taken from [here](https://www.kaggle.com/karnikakapoor/spam-or-ham-sms-classifier)"
   ]
  },
  {
   "cell_type": "code",
   "execution_count": 5,
   "id": "6af57ccf",
   "metadata": {},
   "outputs": [
    {
     "name": "stdout",
     "output_type": "stream",
     "text": [
      "Ham: 4825 \n",
      "Spam: 747\n"
     ]
    },
    {
     "data": {
      "text/plain": [
       "Text(0, 0.5, 'Number of Data points')"
      ]
     },
     "execution_count": 5,
     "metadata": {},
     "output_type": "execute_result"
    },
    {
     "data": {
      "image/png": "[encoded data removed]",
      "text/plain": [
       "<Figure size 864x576 with 1 Axes>"
      ]
     },
     "metadata": {},
     "output_type": "display_data"
    }
   ],
   "source": [
    "sns.set_theme()\n",
    "print('Ham:', len(df[df['Target'] == 'ham']), '\\nSpam:', len(df[df['Target'] == 'spam']))\n",
    "\n",
    "plt.figure(figsize=(12,8))\n",
    "fg = sns.countplot(x = df[\"Target\"])\n",
    "fg.set_title(\"Count Plot of Classes\", color=\"#58508d\")\n",
    "fg.set_xlabel(\"Classes\", color=\"#58508d\")\n",
    "fg.set_ylabel(\"Number of Data points\", color=\"#58508d\")"
   ]
  },
  {
   "cell_type": "code",
   "execution_count": 6,
   "id": "6d9d2914",
   "metadata": {
    "scrolled": true
   },
   "outputs": [
    {
     "data": {
      "text/html": [
       "<div>\n",
       "<style scoped>\n",
       "    .dataframe tbody tr th:only-of-type {\n",
       "        vertical-align: middle;\n",
       "    }\n",
       "\n",
       "    .dataframe tbody tr th {\n",
       "        vertical-align: top;\n",
       "    }\n",
       "\n",
       "    .dataframe thead th {\n",
       "        text-align: right;\n",
       "    }\n",
       "</style>\n",
       "<table border=\"1\" class=\"dataframe\">\n",
       "  <thead>\n",
       "    <tr style=\"text-align: right;\">\n",
       "      <th></th>\n",
       "      <th>count</th>\n",
       "      <th>mean</th>\n",
       "      <th>std</th>\n",
       "      <th>min</th>\n",
       "      <th>25%</th>\n",
       "      <th>50%</th>\n",
       "      <th>75%</th>\n",
       "      <th>max</th>\n",
       "    </tr>\n",
       "  </thead>\n",
       "  <tbody>\n",
       "    <tr>\n",
       "      <th>No_of_Characters</th>\n",
       "      <td>5572.0</td>\n",
       "      <td>80.118808</td>\n",
       "      <td>59.690841</td>\n",
       "      <td>2.0</td>\n",
       "      <td>36.0</td>\n",
       "      <td>61.0</td>\n",
       "      <td>121.0</td>\n",
       "      <td>910.0</td>\n",
       "    </tr>\n",
       "    <tr>\n",
       "      <th>No_of_Words</th>\n",
       "      <td>5572.0</td>\n",
       "      <td>18.698492</td>\n",
       "      <td>13.737477</td>\n",
       "      <td>1.0</td>\n",
       "      <td>9.0</td>\n",
       "      <td>15.0</td>\n",
       "      <td>27.0</td>\n",
       "      <td>220.0</td>\n",
       "    </tr>\n",
       "    <tr>\n",
       "      <th>No_of_sentence</th>\n",
       "      <td>5572.0</td>\n",
       "      <td>1.991565</td>\n",
       "      <td>1.501427</td>\n",
       "      <td>1.0</td>\n",
       "      <td>1.0</td>\n",
       "      <td>1.5</td>\n",
       "      <td>2.0</td>\n",
       "      <td>38.0</td>\n",
       "    </tr>\n",
       "  </tbody>\n",
       "</table>\n",
       "</div>"
      ],
      "text/plain": [
       "                   count       mean        std  min   25%   50%    75%    max\n",
       "No_of_Characters  5572.0  80.118808  59.690841  2.0  36.0  61.0  121.0  910.0\n",
       "No_of_Words       5572.0  18.698492  13.737477  1.0   9.0  15.0   27.0  220.0\n",
       "No_of_sentence    5572.0   1.991565   1.501427  1.0   1.0   1.5    2.0   38.0"
      ]
     },
     "execution_count": 6,
     "metadata": {},
     "output_type": "execute_result"
    }
   ],
   "source": [
    "data = df\n",
    "\n",
    "#Adding a column of numbers of charachters,words and sentences in each msg\n",
    "data[\"No_of_Characters\"] = data[\"Text\"].apply(len)\n",
    "data[\"No_of_Words\"]=data.apply(lambda row: nltk.word_tokenize(row[\"Text\"]), axis=1).apply(len)\n",
    "data[\"No_of_sentence\"]=data.apply(lambda row: nltk.sent_tokenize(row[\"Text\"]), axis=1).apply(len)\n",
    "\n",
    "data.describe().T"
   ]
  },
  {
   "cell_type": "code",
   "execution_count": 7,
   "id": "ea420367",
   "metadata": {},
   "outputs": [
    {
     "data": {
      "text/plain": [
       "<Figure size 864x576 with 0 Axes>"
      ]
     },
     "metadata": {},
     "output_type": "display_data"
    },
    {
     "data": {
      "image/png": "[encoded data removed]",
      "text/plain": [
       "<Figure size 606.475x540 with 12 Axes>"
      ]
     },
     "metadata": {},
     "output_type": "display_data"
    }
   ],
   "source": [
    "plt.figure(figsize=(12,8))\n",
    "fg = sns.pairplot(data=data, hue=\"Target\")\n",
    "plt.show(fg)"
   ]
  },
  {
   "cell_type": "markdown",
   "id": "1fd7c2b0",
   "metadata": {},
   "source": [
    "# Phase 1: Data Preprocessing\n",
    "\n",
    "In order to further process the data, we need to make the data cleaner.\n",
    "\n",
    "In the first step we extract only the alphabetic characters, so we remove punctuation and numbers. Then we convert all the characters into lowercase."
   ]
  },
  {
   "cell_type": "code",
   "execution_count": 8,
   "id": "800b9939",
   "metadata": {},
   "outputs": [
    {
     "name": "stderr",
     "output_type": "stream",
     "text": [
      "[nltk_data] Downloading package wordnet to /Users/simone/nltk_data...\n",
      "[nltk_data]   Package wordnet is already up-to-date!\n"
     ]
    },
    {
     "data": {
      "text/plain": [
       "True"
      ]
     },
     "execution_count": 8,
     "metadata": {},
     "output_type": "execute_result"
    }
   ],
   "source": [
    "nltk.download('wordnet')"
   ]
  },
  {
   "cell_type": "code",
   "execution_count": 9,
   "id": "fbfd5ca4",
   "metadata": {},
   "outputs": [],
   "source": [
    "# pre-process a text : clean, tokenize and stem each word in text\n",
    "def pre_processing(text):\n",
    "    # Initialize lemmatizer\n",
    "    lemmatizer = WordNetLemmatizer()\n",
    "    \n",
    "    # Removing punctuation, lowercase the text, removing stopwords, map punctuation to space\n",
    "    translator = str.maketrans(string.punctuation, ' ' * len(string.punctuation))\n",
    "    p_text = text.translate(translator).lower()\n",
    "    ppt = \"\"\n",
    "    \n",
    "    for word in p_text.split():\n",
    "        if word not in stopwords.words('english'):\n",
    "            ppt += word + \" \"\n",
    "    text = ppt.strip(\" \")\n",
    "    token_words = word_tokenize(text)\n",
    "    lem_sentence = []\n",
    "    \n",
    "    for word in token_words:\n",
    "        lem_sentence.append(lemmatizer.lemmatize(word, pos ='v'))\n",
    "    return ' '.join(lem_sentence)\n",
    "\n",
    "df[\"Pre_processed_text\"] = df[\"Text\"].apply(pre_processing)"
   ]
  },
  {
   "cell_type": "code",
   "execution_count": 10,
   "id": "2c260421-a825-4901-85ec-118a3af5bf55",
   "metadata": {},
   "outputs": [],
   "source": [
    "# It creates a set for all the words\n",
    "bag_words = set()\n",
    "for sms in df[\"Pre_processed_text\"]:\n",
    "    for w in sms.split(\" \"):\n",
    "        if w != \"\":\n",
    "            bag_words = bag_words.union({w})\n",
    "  \n",
    "# Create a list of the words <- our corpus of words\n",
    "bag = list(bag_words)"
   ]
  },
  {
   "cell_type": "markdown",
   "id": "3ac60abc",
   "metadata": {},
   "source": [
    "# Phase 2: Extracting the Features"
   ]
  },
  {
   "cell_type": "code",
   "execution_count": 11,
   "id": "6bf1560d-5f7f-495c-9067-ef67f707d204",
   "metadata": {},
   "outputs": [],
   "source": [
    "# It returns a list of words for each sms\n",
    "def split_words(text, bag_words):\n",
    "    return text.split(\" \")"
   ]
  },
  {
   "cell_type": "code",
   "execution_count": 12,
   "id": "26e9ddcd-d07e-47c1-b0fe-0b03b2d58b10",
   "metadata": {},
   "outputs": [],
   "source": [
    "df[\"Words\"] = df[\"Pre_processed_text\"].apply(split_words, args = (bag_words,))"
   ]
  },
  {
   "cell_type": "code",
   "execution_count": 107,
   "id": "f9872d3e",
   "metadata": {},
   "outputs": [],
   "source": [
    "bag_len = len(bag) # Number of words in the bag # Size of the corpus\n",
    "\n",
    "# Vectorize each sms, assign 1 every time a specific word is in the sms\n",
    "def vectorize_sms(words):\n",
    "    vector = np.zeros(bag_len, dtype = \"int64\")\n",
    "    \n",
    "    for i in range(bag_len):\n",
    "        if bag[i] in words:\n",
    "            vector[i] += words.count(bag[i])\n",
    "            \n",
    "    return vector"
   ]
  },
  {
   "cell_type": "code",
   "execution_count": 111,
   "id": "61638f3d",
   "metadata": {
    "scrolled": true
   },
   "outputs": [],
   "source": [
    "df[\"Vector\"] = df[\"Words\"].apply(vectorize_sms)"
   ]
  },
  {
   "cell_type": "markdown",
   "id": "5f221a1e",
   "metadata": {},
   "source": [
    "Create a dataframe ready for the analysis. It has the sms (documents) on the row and the words (features) on the columns. \n",
    "This dataframe counts the words in the sms."
   ]
  },
  {
   "cell_type": "code",
   "execution_count": 112,
   "id": "41984826-dfd2-46ad-97bc-b5bb85a17709",
   "metadata": {},
   "outputs": [
    {
     "data": {
      "text/html": [
       "<div>\n",
       "<style scoped>\n",
       "    .dataframe tbody tr th:only-of-type {\n",
       "        vertical-align: middle;\n",
       "    }\n",
       "\n",
       "    .dataframe tbody tr th {\n",
       "        vertical-align: top;\n",
       "    }\n",
       "\n",
       "    .dataframe thead th {\n",
       "        text-align: right;\n",
       "    }\n",
       "</style>\n",
       "<table border=\"1\" class=\"dataframe\">\n",
       "  <thead>\n",
       "    <tr style=\"text-align: right;\">\n",
       "      <th></th>\n",
       "      <th>1er</th>\n",
       "      <th>lekdog</th>\n",
       "      <th>dungerees</th>\n",
       "      <th>en</th>\n",
       "      <th>auction</th>\n",
       "      <th>icky</th>\n",
       "      <th>transfr</th>\n",
       "      <th>jersey</th>\n",
       "      <th>captain</th>\n",
       "      <th>mia</th>\n",
       "      <th>...</th>\n",
       "      <th>vouch4me</th>\n",
       "      <th>challenge</th>\n",
       "      <th>inconvenient</th>\n",
       "      <th>reach</th>\n",
       "      <th>urfeeling</th>\n",
       "      <th>corect</th>\n",
       "      <th>sender</th>\n",
       "      <th>control</th>\n",
       "      <th>jorge</th>\n",
       "      <th>thts</th>\n",
       "    </tr>\n",
       "  </thead>\n",
       "  <tbody>\n",
       "    <tr>\n",
       "      <th>0</th>\n",
       "      <td>0</td>\n",
       "      <td>0</td>\n",
       "      <td>0</td>\n",
       "      <td>0</td>\n",
       "      <td>0</td>\n",
       "      <td>0</td>\n",
       "      <td>0</td>\n",
       "      <td>0</td>\n",
       "      <td>0</td>\n",
       "      <td>0</td>\n",
       "      <td>...</td>\n",
       "      <td>0</td>\n",
       "      <td>0</td>\n",
       "      <td>0</td>\n",
       "      <td>0</td>\n",
       "      <td>0</td>\n",
       "      <td>0</td>\n",
       "      <td>0</td>\n",
       "      <td>0</td>\n",
       "      <td>0</td>\n",
       "      <td>0</td>\n",
       "    </tr>\n",
       "    <tr>\n",
       "      <th>1</th>\n",
       "      <td>0</td>\n",
       "      <td>0</td>\n",
       "      <td>0</td>\n",
       "      <td>0</td>\n",
       "      <td>0</td>\n",
       "      <td>0</td>\n",
       "      <td>0</td>\n",
       "      <td>0</td>\n",
       "      <td>0</td>\n",
       "      <td>0</td>\n",
       "      <td>...</td>\n",
       "      <td>0</td>\n",
       "      <td>0</td>\n",
       "      <td>0</td>\n",
       "      <td>0</td>\n",
       "      <td>0</td>\n",
       "      <td>0</td>\n",
       "      <td>0</td>\n",
       "      <td>0</td>\n",
       "      <td>0</td>\n",
       "      <td>0</td>\n",
       "    </tr>\n",
       "    <tr>\n",
       "      <th>2</th>\n",
       "      <td>0</td>\n",
       "      <td>0</td>\n",
       "      <td>0</td>\n",
       "      <td>0</td>\n",
       "      <td>0</td>\n",
       "      <td>0</td>\n",
       "      <td>0</td>\n",
       "      <td>0</td>\n",
       "      <td>0</td>\n",
       "      <td>0</td>\n",
       "      <td>...</td>\n",
       "      <td>0</td>\n",
       "      <td>0</td>\n",
       "      <td>0</td>\n",
       "      <td>0</td>\n",
       "      <td>0</td>\n",
       "      <td>0</td>\n",
       "      <td>0</td>\n",
       "      <td>0</td>\n",
       "      <td>0</td>\n",
       "      <td>0</td>\n",
       "    </tr>\n",
       "    <tr>\n",
       "      <th>3</th>\n",
       "      <td>0</td>\n",
       "      <td>0</td>\n",
       "      <td>0</td>\n",
       "      <td>0</td>\n",
       "      <td>0</td>\n",
       "      <td>0</td>\n",
       "      <td>0</td>\n",
       "      <td>0</td>\n",
       "      <td>0</td>\n",
       "      <td>0</td>\n",
       "      <td>...</td>\n",
       "      <td>0</td>\n",
       "      <td>0</td>\n",
       "      <td>0</td>\n",
       "      <td>0</td>\n",
       "      <td>0</td>\n",
       "      <td>0</td>\n",
       "      <td>0</td>\n",
       "      <td>0</td>\n",
       "      <td>0</td>\n",
       "      <td>0</td>\n",
       "    </tr>\n",
       "    <tr>\n",
       "      <th>4</th>\n",
       "      <td>0</td>\n",
       "      <td>0</td>\n",
       "      <td>0</td>\n",
       "      <td>0</td>\n",
       "      <td>0</td>\n",
       "      <td>0</td>\n",
       "      <td>0</td>\n",
       "      <td>0</td>\n",
       "      <td>0</td>\n",
       "      <td>0</td>\n",
       "      <td>...</td>\n",
       "      <td>0</td>\n",
       "      <td>0</td>\n",
       "      <td>0</td>\n",
       "      <td>0</td>\n",
       "      <td>0</td>\n",
       "      <td>0</td>\n",
       "      <td>0</td>\n",
       "      <td>0</td>\n",
       "      <td>0</td>\n",
       "      <td>0</td>\n",
       "    </tr>\n",
       "    <tr>\n",
       "      <th>...</th>\n",
       "      <td>...</td>\n",
       "      <td>...</td>\n",
       "      <td>...</td>\n",
       "      <td>...</td>\n",
       "      <td>...</td>\n",
       "      <td>...</td>\n",
       "      <td>...</td>\n",
       "      <td>...</td>\n",
       "      <td>...</td>\n",
       "      <td>...</td>\n",
       "      <td>...</td>\n",
       "      <td>...</td>\n",
       "      <td>...</td>\n",
       "      <td>...</td>\n",
       "      <td>...</td>\n",
       "      <td>...</td>\n",
       "      <td>...</td>\n",
       "      <td>...</td>\n",
       "      <td>...</td>\n",
       "      <td>...</td>\n",
       "      <td>...</td>\n",
       "    </tr>\n",
       "    <tr>\n",
       "      <th>5567</th>\n",
       "      <td>0</td>\n",
       "      <td>0</td>\n",
       "      <td>0</td>\n",
       "      <td>0</td>\n",
       "      <td>0</td>\n",
       "      <td>0</td>\n",
       "      <td>0</td>\n",
       "      <td>0</td>\n",
       "      <td>0</td>\n",
       "      <td>0</td>\n",
       "      <td>...</td>\n",
       "      <td>0</td>\n",
       "      <td>0</td>\n",
       "      <td>0</td>\n",
       "      <td>0</td>\n",
       "      <td>0</td>\n",
       "      <td>0</td>\n",
       "      <td>0</td>\n",
       "      <td>0</td>\n",
       "      <td>0</td>\n",
       "      <td>0</td>\n",
       "    </tr>\n",
       "    <tr>\n",
       "      <th>5568</th>\n",
       "      <td>0</td>\n",
       "      <td>0</td>\n",
       "      <td>0</td>\n",
       "      <td>0</td>\n",
       "      <td>0</td>\n",
       "      <td>0</td>\n",
       "      <td>0</td>\n",
       "      <td>0</td>\n",
       "      <td>0</td>\n",
       "      <td>0</td>\n",
       "      <td>...</td>\n",
       "      <td>0</td>\n",
       "      <td>0</td>\n",
       "      <td>0</td>\n",
       "      <td>0</td>\n",
       "      <td>0</td>\n",
       "      <td>0</td>\n",
       "      <td>0</td>\n",
       "      <td>0</td>\n",
       "      <td>0</td>\n",
       "      <td>0</td>\n",
       "    </tr>\n",
       "    <tr>\n",
       "      <th>5569</th>\n",
       "      <td>0</td>\n",
       "      <td>0</td>\n",
       "      <td>0</td>\n",
       "      <td>0</td>\n",
       "      <td>0</td>\n",
       "      <td>0</td>\n",
       "      <td>0</td>\n",
       "      <td>0</td>\n",
       "      <td>0</td>\n",
       "      <td>0</td>\n",
       "      <td>...</td>\n",
       "      <td>0</td>\n",
       "      <td>0</td>\n",
       "      <td>0</td>\n",
       "      <td>0</td>\n",
       "      <td>0</td>\n",
       "      <td>0</td>\n",
       "      <td>0</td>\n",
       "      <td>0</td>\n",
       "      <td>0</td>\n",
       "      <td>0</td>\n",
       "    </tr>\n",
       "    <tr>\n",
       "      <th>5570</th>\n",
       "      <td>0</td>\n",
       "      <td>0</td>\n",
       "      <td>0</td>\n",
       "      <td>0</td>\n",
       "      <td>0</td>\n",
       "      <td>0</td>\n",
       "      <td>0</td>\n",
       "      <td>0</td>\n",
       "      <td>0</td>\n",
       "      <td>0</td>\n",
       "      <td>...</td>\n",
       "      <td>0</td>\n",
       "      <td>0</td>\n",
       "      <td>0</td>\n",
       "      <td>0</td>\n",
       "      <td>0</td>\n",
       "      <td>0</td>\n",
       "      <td>0</td>\n",
       "      <td>0</td>\n",
       "      <td>0</td>\n",
       "      <td>0</td>\n",
       "    </tr>\n",
       "    <tr>\n",
       "      <th>5571</th>\n",
       "      <td>0</td>\n",
       "      <td>0</td>\n",
       "      <td>0</td>\n",
       "      <td>0</td>\n",
       "      <td>0</td>\n",
       "      <td>0</td>\n",
       "      <td>0</td>\n",
       "      <td>0</td>\n",
       "      <td>0</td>\n",
       "      <td>0</td>\n",
       "      <td>...</td>\n",
       "      <td>0</td>\n",
       "      <td>0</td>\n",
       "      <td>0</td>\n",
       "      <td>0</td>\n",
       "      <td>0</td>\n",
       "      <td>0</td>\n",
       "      <td>0</td>\n",
       "      <td>0</td>\n",
       "      <td>0</td>\n",
       "      <td>0</td>\n",
       "    </tr>\n",
       "  </tbody>\n",
       "</table>\n",
       "<p>5572 rows × 7644 columns</p>\n",
       "</div>"
      ],
      "text/plain": [
       "      1er  lekdog  dungerees  en  auction  icky  transfr  jersey  captain  \\\n",
       "0       0       0          0   0        0     0        0       0        0   \n",
       "1       0       0          0   0        0     0        0       0        0   \n",
       "2       0       0          0   0        0     0        0       0        0   \n",
       "3       0       0          0   0        0     0        0       0        0   \n",
       "4       0       0          0   0        0     0        0       0        0   \n",
       "...   ...     ...        ...  ..      ...   ...      ...     ...      ...   \n",
       "5567    0       0          0   0        0     0        0       0        0   \n",
       "5568    0       0          0   0        0     0        0       0        0   \n",
       "5569    0       0          0   0        0     0        0       0        0   \n",
       "5570    0       0          0   0        0     0        0       0        0   \n",
       "5571    0       0          0   0        0     0        0       0        0   \n",
       "\n",
       "      mia  ...  vouch4me  challenge  inconvenient  reach  urfeeling  corect  \\\n",
       "0       0  ...         0          0             0      0          0       0   \n",
       "1       0  ...         0          0             0      0          0       0   \n",
       "2       0  ...         0          0             0      0          0       0   \n",
       "3       0  ...         0          0             0      0          0       0   \n",
       "4       0  ...         0          0             0      0          0       0   \n",
       "...   ...  ...       ...        ...           ...    ...        ...     ...   \n",
       "5567    0  ...         0          0             0      0          0       0   \n",
       "5568    0  ...         0          0             0      0          0       0   \n",
       "5569    0  ...         0          0             0      0          0       0   \n",
       "5570    0  ...         0          0             0      0          0       0   \n",
       "5571    0  ...         0          0             0      0          0       0   \n",
       "\n",
       "      sender  control  jorge  thts  \n",
       "0          0        0      0     0  \n",
       "1          0        0      0     0  \n",
       "2          0        0      0     0  \n",
       "3          0        0      0     0  \n",
       "4          0        0      0     0  \n",
       "...      ...      ...    ...   ...  \n",
       "5567       0        0      0     0  \n",
       "5568       0        0      0     0  \n",
       "5569       0        0      0     0  \n",
       "5570       0        0      0     0  \n",
       "5571       0        0      0     0  \n",
       "\n",
       "[5572 rows x 7644 columns]"
      ]
     },
     "execution_count": 112,
     "metadata": {},
     "output_type": "execute_result"
    }
   ],
   "source": [
    "# Initialize the dataframe\n",
    "X = np.zeros((len(df), bag_len), dtype = \"int64\")\n",
    "\n",
    "# For each sms consider its vectorized form\n",
    "for i in range(len(df)):\n",
    "    X[i] += df.iloc[i, 7]\n",
    "    \n",
    "# Create a pandas Dataframe    \n",
    "pd.DataFrame(X, columns = bag)"
   ]
  },
  {
   "cell_type": "code",
   "execution_count": 113,
   "id": "7cce5d0a-277c-4652-8bc8-af906f0f9b94",
   "metadata": {},
   "outputs": [],
   "source": [
    "# Create the classes encoding the 'spam' and 'ham' information\n",
    "'''\n",
    "If a sms is ham == 0;\n",
    "if a sms is spam == 1\n",
    "'''\n",
    "\n",
    "y = np.zeros(len(df), dtype=\"int64\")\n",
    "\n",
    "for i in range(len(df[\"Target\"])):\n",
    "    if df.iloc[i,0] == \"ham\":\n",
    "        y[i] = 0\n",
    "    else:\n",
    "        y[i] = 1"
   ]
  },
  {
   "cell_type": "markdown",
   "id": "a32ef21c",
   "metadata": {},
   "source": [
    "# Phase 3: Model Building"
   ]
  },
  {
   "cell_type": "code",
   "execution_count": 114,
   "id": "65b7b857-2e37-4163-b13d-a3d85b587315",
   "metadata": {},
   "outputs": [
    {
     "data": {
      "text/plain": [
       "((4457, 7644), (4457,))"
      ]
     },
     "execution_count": 114,
     "metadata": {},
     "output_type": "execute_result"
    }
   ],
   "source": [
    "# Splitting the test and training set\n",
    "# We decided to consider the 20% of the dataset as test set\n",
    "X_train, X_test, y_train, y_test = train_test_split(X, y, test_size = 0.2, random_state = 42)\n",
    "X_train.shape, y_train.shape"
   ]
  },
  {
   "cell_type": "code",
   "execution_count": 115,
   "id": "42c2b236-b015-46a1-b6fe-2ae2e84a2737",
   "metadata": {},
   "outputs": [
    {
     "name": "stdout",
     "output_type": "stream",
     "text": [
      "[[0. 1. 1. ... 2. 0. 5.]\n",
      " [0. 0. 0. ... 0. 1. 0.]]\n"
     ]
    }
   ],
   "source": [
    "N_yi = np.zeros((2, bag_len)) # feature count\n",
    "N_y = np.zeros((2)) # total count \n",
    "for i in range(len(y_train)):\n",
    "    # Compute N_y counting the features for each specific class\n",
    "    N_y[y_train[i]] += np.sum(X_train[i])\n",
    "    # Compute N_yi adding counting the specific words in each class\n",
    "    N_yi[y_train[i]] += (X_train[i])\n",
    "print(N_yi)"
   ]
  },
  {
   "cell_type": "markdown",
   "id": "234190e9-6d43-4125-9acc-24bdd1191379",
   "metadata": {},
   "source": [
    "## Prior "
   ]
  },
  {
   "cell_type": "code",
   "execution_count": 116,
   "id": "9affc920-e056-4ea4-9349-ca5f59cf1aae",
   "metadata": {},
   "outputs": [
    {
     "name": "stdout",
     "output_type": "stream",
     "text": [
      "[0.8660534 0.1339466]\n"
     ]
    }
   ],
   "source": [
    "P = np.zeros(2)\n",
    "classes = np.unique(y_train)\n",
    "\n",
    "# Implement Prior Probability P(A)\n",
    "for j in classes:\n",
    "    P[j] = np.count_nonzero(y_train == j)/(len(y_train))\n",
    "    \n",
    "print(P)"
   ]
  },
  {
   "cell_type": "markdown",
   "id": "486738ca-afe8-4fa2-bc46-10673628e38e",
   "metadata": {},
   "source": [
    "## Likelihood"
   ]
  },
  {
   "cell_type": "code",
   "execution_count": 117,
   "id": "69a5edbc-9cc8-4bd4-8611-82ed0b45f828",
   "metadata": {},
   "outputs": [],
   "source": [
    "# The likelihood of each word to be in a ham or in a spam message\n",
    "likelihood_matrix_words = np.zeros((2,bag_len))\n",
    "\n",
    "for i in range(bag_len):\n",
    "    for j in range(2):\n",
    "        # NOTE: We implemented Laplace Smoothing\n",
    "        likelihood_matrix_words[j][i]=float((N_yi[j][i] + 1)/(N_y[j] + bag_len))\n",
    "        \n",
    "likelihood_matrix_words = pd.DataFrame(likelihood_matrix_words, columns = bag)"
   ]
  },
  {
   "cell_type": "code",
   "execution_count": 118,
   "id": "8f2883c0-cbe7-4bb7-a2b0-5cee07a07480",
   "metadata": {},
   "outputs": [
    {
     "data": {
      "text/html": [
       "<div>\n",
       "<style scoped>\n",
       "    .dataframe tbody tr th:only-of-type {\n",
       "        vertical-align: middle;\n",
       "    }\n",
       "\n",
       "    .dataframe tbody tr th {\n",
       "        vertical-align: top;\n",
       "    }\n",
       "\n",
       "    .dataframe thead th {\n",
       "        text-align: right;\n",
       "    }\n",
       "</style>\n",
       "<table border=\"1\" class=\"dataframe\">\n",
       "  <thead>\n",
       "    <tr style=\"text-align: right;\">\n",
       "      <th></th>\n",
       "      <th>1er</th>\n",
       "      <th>lekdog</th>\n",
       "      <th>dungerees</th>\n",
       "      <th>en</th>\n",
       "      <th>auction</th>\n",
       "      <th>icky</th>\n",
       "      <th>transfr</th>\n",
       "      <th>jersey</th>\n",
       "      <th>captain</th>\n",
       "      <th>mia</th>\n",
       "      <th>...</th>\n",
       "      <th>vouch4me</th>\n",
       "      <th>challenge</th>\n",
       "      <th>inconvenient</th>\n",
       "      <th>reach</th>\n",
       "      <th>urfeeling</th>\n",
       "      <th>corect</th>\n",
       "      <th>sender</th>\n",
       "      <th>control</th>\n",
       "      <th>jorge</th>\n",
       "      <th>thts</th>\n",
       "    </tr>\n",
       "  </thead>\n",
       "  <tbody>\n",
       "    <tr>\n",
       "      <th>0</th>\n",
       "      <td>0.000025</td>\n",
       "      <td>0.000051</td>\n",
       "      <td>0.000051</td>\n",
       "      <td>0.000051</td>\n",
       "      <td>0.000076</td>\n",
       "      <td>0.000051</td>\n",
       "      <td>0.000051</td>\n",
       "      <td>0.000025</td>\n",
       "      <td>0.000127</td>\n",
       "      <td>0.000051</td>\n",
       "      <td>...</td>\n",
       "      <td>0.000025</td>\n",
       "      <td>0.000076</td>\n",
       "      <td>0.000051</td>\n",
       "      <td>0.001018</td>\n",
       "      <td>0.000051</td>\n",
       "      <td>0.000051</td>\n",
       "      <td>0.000076</td>\n",
       "      <td>0.000076</td>\n",
       "      <td>0.000025</td>\n",
       "      <td>0.000153</td>\n",
       "    </tr>\n",
       "    <tr>\n",
       "      <th>1</th>\n",
       "      <td>0.000054</td>\n",
       "      <td>0.000054</td>\n",
       "      <td>0.000054</td>\n",
       "      <td>0.000054</td>\n",
       "      <td>0.000593</td>\n",
       "      <td>0.000054</td>\n",
       "      <td>0.000054</td>\n",
       "      <td>0.000108</td>\n",
       "      <td>0.000054</td>\n",
       "      <td>0.000054</td>\n",
       "      <td>...</td>\n",
       "      <td>0.000108</td>\n",
       "      <td>0.000108</td>\n",
       "      <td>0.000054</td>\n",
       "      <td>0.000323</td>\n",
       "      <td>0.000054</td>\n",
       "      <td>0.000054</td>\n",
       "      <td>0.000054</td>\n",
       "      <td>0.000054</td>\n",
       "      <td>0.000108</td>\n",
       "      <td>0.000054</td>\n",
       "    </tr>\n",
       "  </tbody>\n",
       "</table>\n",
       "<p>2 rows × 7644 columns</p>\n",
       "</div>"
      ],
      "text/plain": [
       "        1er    lekdog  dungerees        en   auction      icky   transfr  \\\n",
       "0  0.000025  0.000051   0.000051  0.000051  0.000076  0.000051  0.000051   \n",
       "1  0.000054  0.000054   0.000054  0.000054  0.000593  0.000054  0.000054   \n",
       "\n",
       "     jersey   captain       mia  ...  vouch4me  challenge  inconvenient  \\\n",
       "0  0.000025  0.000127  0.000051  ...  0.000025   0.000076      0.000051   \n",
       "1  0.000108  0.000054  0.000054  ...  0.000108   0.000108      0.000054   \n",
       "\n",
       "      reach  urfeeling    corect    sender   control     jorge      thts  \n",
       "0  0.001018   0.000051  0.000051  0.000076  0.000076  0.000025  0.000153  \n",
       "1  0.000323   0.000054  0.000054  0.000054  0.000054  0.000108  0.000054  \n",
       "\n",
       "[2 rows x 7644 columns]"
      ]
     },
     "execution_count": 118,
     "metadata": {},
     "output_type": "execute_result"
    }
   ],
   "source": [
    "likelihood_matrix_words"
   ]
  },
  {
   "cell_type": "code",
   "execution_count": 119,
   "id": "323e73e2-4f0a-47a3-927c-04df2e7da4eb",
   "metadata": {
    "scrolled": true,
    "tags": []
   },
   "outputs": [],
   "source": [
    "# Likelihood matrix for each sms\n",
    "likelihood_matrix = np.zeros((len(X_train), 2))\n",
    "\n",
    "for i in range(len(X_train)):\n",
    "    tmp_spam = []\n",
    "    tmp_ham = []\n",
    "    sms = X_train[i] #list of words\n",
    "    \n",
    "    # NOTE: In order to have numerical stability, we opted for using the logarithms\n",
    "    # This way we convert all the products into sums\n",
    "    for index in range(len(sms)): #for each word in sms\n",
    "        if sms[index]!=0:\n",
    "            weight_ham, weight_spam = likelihood_matrix_words.iloc[:, index]\n",
    "            tmp_spam.append(math.log(weight_spam)**sms[index])\n",
    "            tmp_ham.append(math.log(weight_ham)**sms[index])\n",
    "            \n",
    "    likelihood_matrix[i][0] = float(np.sum(tmp_ham))\n",
    "    likelihood_matrix[i][1] = float(np.sum(tmp_spam))"
   ]
  },
  {
   "cell_type": "code",
   "execution_count": 120,
   "id": "761cd371-81d9-40ff-9f77-4ee4077ceb5d",
   "metadata": {},
   "outputs": [],
   "source": [
    "likelihood_matrix_df = pd.DataFrame(likelihood_matrix, columns = [\"ham\", \"spam\"])"
   ]
  },
  {
   "cell_type": "code",
   "execution_count": 121,
   "id": "10c0d258-c6b0-429d-a213-286362e7eb21",
   "metadata": {},
   "outputs": [
    {
     "data": {
      "text/html": [
       "<div>\n",
       "<style scoped>\n",
       "    .dataframe tbody tr th:only-of-type {\n",
       "        vertical-align: middle;\n",
       "    }\n",
       "\n",
       "    .dataframe tbody tr th {\n",
       "        vertical-align: top;\n",
       "    }\n",
       "\n",
       "    .dataframe thead th {\n",
       "        text-align: right;\n",
       "    }\n",
       "</style>\n",
       "<table border=\"1\" class=\"dataframe\">\n",
       "  <thead>\n",
       "    <tr style=\"text-align: right;\">\n",
       "      <th></th>\n",
       "      <th>ham</th>\n",
       "      <th>spam</th>\n",
       "    </tr>\n",
       "  </thead>\n",
       "  <tbody>\n",
       "    <tr>\n",
       "      <th>0</th>\n",
       "      <td>-54.642509</td>\n",
       "      <td>-61.752847</td>\n",
       "    </tr>\n",
       "    <tr>\n",
       "      <th>1</th>\n",
       "      <td>-137.698760</td>\n",
       "      <td>-123.563863</td>\n",
       "    </tr>\n",
       "    <tr>\n",
       "      <th>2</th>\n",
       "      <td>-47.983771</td>\n",
       "      <td>-50.506910</td>\n",
       "    </tr>\n",
       "    <tr>\n",
       "      <th>3</th>\n",
       "      <td>-46.550733</td>\n",
       "      <td>-56.334173</td>\n",
       "    </tr>\n",
       "    <tr>\n",
       "      <th>4</th>\n",
       "      <td>-181.426690</td>\n",
       "      <td>-142.758199</td>\n",
       "    </tr>\n",
       "    <tr>\n",
       "      <th>...</th>\n",
       "      <td>...</td>\n",
       "      <td>...</td>\n",
       "    </tr>\n",
       "    <tr>\n",
       "      <th>4452</th>\n",
       "      <td>-53.817863</td>\n",
       "      <td>-66.468885</td>\n",
       "    </tr>\n",
       "    <tr>\n",
       "      <th>4453</th>\n",
       "      <td>-16.797909</td>\n",
       "      <td>-22.416741</td>\n",
       "    </tr>\n",
       "    <tr>\n",
       "      <th>4454</th>\n",
       "      <td>-50.221898</td>\n",
       "      <td>-57.586936</td>\n",
       "    </tr>\n",
       "    <tr>\n",
       "      <th>4455</th>\n",
       "      <td>-29.943251</td>\n",
       "      <td>-35.983283</td>\n",
       "    </tr>\n",
       "    <tr>\n",
       "      <th>4456</th>\n",
       "      <td>-17.906408</td>\n",
       "      <td>-21.695919</td>\n",
       "    </tr>\n",
       "  </tbody>\n",
       "</table>\n",
       "<p>4457 rows × 2 columns</p>\n",
       "</div>"
      ],
      "text/plain": [
       "             ham        spam\n",
       "0     -54.642509  -61.752847\n",
       "1    -137.698760 -123.563863\n",
       "2     -47.983771  -50.506910\n",
       "3     -46.550733  -56.334173\n",
       "4    -181.426690 -142.758199\n",
       "...          ...         ...\n",
       "4452  -53.817863  -66.468885\n",
       "4453  -16.797909  -22.416741\n",
       "4454  -50.221898  -57.586936\n",
       "4455  -29.943251  -35.983283\n",
       "4456  -17.906408  -21.695919\n",
       "\n",
       "[4457 rows x 2 columns]"
      ]
     },
     "execution_count": 121,
     "metadata": {},
     "output_type": "execute_result"
    }
   ],
   "source": [
    "likelihood_matrix_df"
   ]
  },
  {
   "cell_type": "code",
   "execution_count": 122,
   "id": "8e2ec95c-3834-440a-993f-4dc4e4677bd8",
   "metadata": {},
   "outputs": [
    {
     "data": {
      "text/html": [
       "<div>\n",
       "<style scoped>\n",
       "    .dataframe tbody tr th:only-of-type {\n",
       "        vertical-align: middle;\n",
       "    }\n",
       "\n",
       "    .dataframe tbody tr th {\n",
       "        vertical-align: top;\n",
       "    }\n",
       "\n",
       "    .dataframe thead th {\n",
       "        text-align: right;\n",
       "    }\n",
       "</style>\n",
       "<table border=\"1\" class=\"dataframe\">\n",
       "  <thead>\n",
       "    <tr style=\"text-align: right;\">\n",
       "      <th></th>\n",
       "      <th>ham</th>\n",
       "      <th>spam</th>\n",
       "    </tr>\n",
       "  </thead>\n",
       "  <tbody>\n",
       "    <tr>\n",
       "      <th>0</th>\n",
       "      <td>-54.786317</td>\n",
       "      <td>-63.763162</td>\n",
       "    </tr>\n",
       "    <tr>\n",
       "      <th>1</th>\n",
       "      <td>-137.842569</td>\n",
       "      <td>-125.574177</td>\n",
       "    </tr>\n",
       "    <tr>\n",
       "      <th>2</th>\n",
       "      <td>-48.127579</td>\n",
       "      <td>-52.517224</td>\n",
       "    </tr>\n",
       "    <tr>\n",
       "      <th>3</th>\n",
       "      <td>-46.694542</td>\n",
       "      <td>-58.344487</td>\n",
       "    </tr>\n",
       "    <tr>\n",
       "      <th>4</th>\n",
       "      <td>-181.570498</td>\n",
       "      <td>-144.768513</td>\n",
       "    </tr>\n",
       "    <tr>\n",
       "      <th>...</th>\n",
       "      <td>...</td>\n",
       "      <td>...</td>\n",
       "    </tr>\n",
       "    <tr>\n",
       "      <th>4452</th>\n",
       "      <td>-53.961671</td>\n",
       "      <td>-68.479199</td>\n",
       "    </tr>\n",
       "    <tr>\n",
       "      <th>4453</th>\n",
       "      <td>-16.941717</td>\n",
       "      <td>-24.427055</td>\n",
       "    </tr>\n",
       "    <tr>\n",
       "      <th>4454</th>\n",
       "      <td>-50.365707</td>\n",
       "      <td>-59.597250</td>\n",
       "    </tr>\n",
       "    <tr>\n",
       "      <th>4455</th>\n",
       "      <td>-30.087060</td>\n",
       "      <td>-37.993597</td>\n",
       "    </tr>\n",
       "    <tr>\n",
       "      <th>4456</th>\n",
       "      <td>-18.050217</td>\n",
       "      <td>-23.706233</td>\n",
       "    </tr>\n",
       "  </tbody>\n",
       "</table>\n",
       "<p>4457 rows × 2 columns</p>\n",
       "</div>"
      ],
      "text/plain": [
       "             ham        spam\n",
       "0     -54.786317  -63.763162\n",
       "1    -137.842569 -125.574177\n",
       "2     -48.127579  -52.517224\n",
       "3     -46.694542  -58.344487\n",
       "4    -181.570498 -144.768513\n",
       "...          ...         ...\n",
       "4452  -53.961671  -68.479199\n",
       "4453  -16.941717  -24.427055\n",
       "4454  -50.365707  -59.597250\n",
       "4455  -30.087060  -37.993597\n",
       "4456  -18.050217  -23.706233\n",
       "\n",
       "[4457 rows x 2 columns]"
      ]
     },
     "execution_count": 122,
     "metadata": {},
     "output_type": "execute_result"
    }
   ],
   "source": [
    "# Add the log of the prior probabilities\n",
    "likelihood_final = np.zeros((len(X_train), 2))\n",
    "\n",
    "for i in range(len(X_train)):\n",
    "    for j in range(2):\n",
    "        likelihood_final[i][j] = likelihood_matrix[i][j] + math.log(P[j])\n",
    "\n",
    "likelihood_final = pd.DataFrame(likelihood_final, columns = [\"ham\", \"spam\"])\n",
    "likelihood_final"
   ]
  },
  {
   "cell_type": "code",
   "execution_count": 123,
   "id": "abae56c3",
   "metadata": {},
   "outputs": [],
   "source": [
    "prob_spam = abs(likelihood_final['spam']) / (abs(likelihood_final['spam']) + abs(likelihood_final['ham']))"
   ]
  },
  {
   "cell_type": "code",
   "execution_count": 124,
   "id": "84817d90",
   "metadata": {},
   "outputs": [
    {
     "data": {
      "text/plain": [
       "0       0.537861\n",
       "1       0.476713\n",
       "2       0.521808\n",
       "3       0.555455\n",
       "4       0.443614\n",
       "          ...   \n",
       "4452    0.559284\n",
       "4453    0.590471\n",
       "4454    0.541976\n",
       "4455    0.558067\n",
       "4456    0.567726\n",
       "Length: 4457, dtype: float64"
      ]
     },
     "execution_count": 124,
     "metadata": {},
     "output_type": "execute_result"
    }
   ],
   "source": [
    "prob_spam"
   ]
  },
  {
   "cell_type": "code",
   "execution_count": 125,
   "id": "3ca4567f-b7e3-4261-a713-7f946716f48c",
   "metadata": {},
   "outputs": [
    {
     "data": {
      "text/plain": [
       "0       0\n",
       "1       1\n",
       "2       0\n",
       "3       0\n",
       "4       1\n",
       "       ..\n",
       "4452    0\n",
       "4453    0\n",
       "4454    0\n",
       "4455    0\n",
       "4456    0\n",
       "Length: 4457, dtype: int64"
      ]
     },
     "execution_count": 125,
     "metadata": {},
     "output_type": "execute_result"
    }
   ],
   "source": [
    "# Take the max value between the two log-likelihoods to predict the label\n",
    "res = likelihood_final.idxmax(axis = 1)\n",
    "\n",
    "# Replace 'ham' with 0 and 'spam' with 1\n",
    "res = res.replace(\"ham\", 0)\n",
    "res = res.replace(\"spam\", 1)\n",
    "\n",
    "res"
   ]
  },
  {
   "cell_type": "code",
   "execution_count": 126,
   "id": "633acce2-04a6-4058-9368-ad93ac264310",
   "metadata": {
    "scrolled": true
   },
   "outputs": [
    {
     "name": "stdout",
     "output_type": "stream",
     "text": [
      "[[3852    8]\n",
      " [  17  580]]\n"
     ]
    }
   ],
   "source": [
    "confusionMatrix=confusion_matrix(y_train, res)\n",
    "print(c)"
   ]
  },
  {
   "cell_type": "code",
   "execution_count": 127,
   "id": "4e9f4a65-4e18-4ef2-9ee7-387e81ea08f9",
   "metadata": {},
   "outputs": [
    {
     "name": "stdout",
     "output_type": "stream",
     "text": [
      "true positive Rate 0.9473834715470403\n",
      "false positive Rate 0.5697916666666667\n"
     ]
    }
   ],
   "source": [
    "true_positive=confusionMatrix[0,0]\n",
    "false_negative=confusionMatrix[1,0]\n",
    "false_positive=confusionMatrix[0,1]\n",
    "true_negative=confusionMatrix[1,1]\n",
    "\n",
    "true_positive_Rate=true_positive/(true_positive+false_negative)\n",
    "false_positive_Rate=false_positive/(false_positive+true_negative)\n",
    "\n",
    "print(\"true positive Rate\",true_positive_Rate)\n",
    "print(\"false positive Rate\",false_positive_Rate)"
   ]
  },
  {
   "cell_type": "code",
   "execution_count": 128,
   "id": "d8a57f5d",
   "metadata": {},
   "outputs": [],
   "source": [
    "fpr, tpr, threshold = roc_curve(y_train, 1-prob_spam)"
   ]
  },
  {
   "cell_type": "code",
   "execution_count": 129,
   "id": "89098f0e",
   "metadata": {},
   "outputs": [
    {
     "data": {
      "text/plain": [
       "0.8449692330391161"
      ]
     },
     "execution_count": 129,
     "metadata": {},
     "output_type": "execute_result"
    }
   ],
   "source": [
    "auc(fpr, tpr)"
   ]
  },
  {
   "cell_type": "code",
   "execution_count": 130,
   "id": "0e6937c8",
   "metadata": {},
   "outputs": [
    {
     "data": {
      "image/png": "[encoded data removed]",
      "text/plain": [
       "<Figure size 432x288 with 1 Axes>"
      ]
     },
     "metadata": {},
     "output_type": "display_data"
    }
   ],
   "source": [
    "# plot the roc curve for the model\n",
    "plt.plot([0,1], [0,1], linestyle='--', label='just tossing a coin')\n",
    "plt.plot(fpr, tpr, marker='.', label='Naive Bayes')\n",
    "# axis labels\n",
    "plt.xlabel('False Positive Rate')\n",
    "plt.ylabel('True Positive Rate')\n",
    "plt.legend()\n",
    "# show the plot\n",
    "plt.show()"
   ]
  },
  {
   "cell_type": "markdown",
   "id": "6fbcdf97-60f1-425d-9a56-225776f9d80e",
   "metadata": {},
   "source": [
    "the optimal threshold  is  the treshold that create the greatest difference between the tpr and fpr"
   ]
  },
  {
   "cell_type": "code",
   "execution_count": 131,
   "id": "ca13ab34-47a2-4622-835b-e9d13f75a9f0",
   "metadata": {},
   "outputs": [
    {
     "name": "stdout",
     "output_type": "stream",
     "text": [
      "Threshold value is: 0.4898692967768995\n",
      "TPR  0.830820770519263\n",
      "FPR  0.09352331606217616\n"
     ]
    }
   ],
   "source": [
    "optimal_idx = np.argmax(tpr - fpr)\n",
    "optimal_threshold = threshold[optimal_idx]\n",
    "print(\"Threshold value is:\", optimal_threshold)\n",
    "print(\"TPR \",tpr[optimal_idx])\n",
    "print(\"FPR \",fpr[optimal_idx])"
   ]
  },
  {
   "cell_type": "markdown",
   "id": "857026cc-f8e9-4eb8-abf1-1651387f0a25",
   "metadata": {},
   "source": [
    "the threshold value is really near the default threshold"
   ]
  },
  {
   "cell_type": "markdown",
   "id": "7ebb34e0",
   "metadata": {},
   "source": [
    "####"
   ]
  },
  {
   "cell_type": "markdown",
   "id": "13dde556",
   "metadata": {},
   "source": [
    "Now, consider X_test, repeat the same steps as before"
   ]
  },
  {
   "cell_type": "code",
   "execution_count": 132,
   "id": "9202ddf5",
   "metadata": {},
   "outputs": [],
   "source": [
    "likelihood_matrix_test = np.zeros((len(X_test), 2))\n",
    "\n",
    "for i in range(len(X_test)):\n",
    "    tmp_spam = []\n",
    "    tmp_ham = []\n",
    "    sms = X_test[i] #list of sms in X_TEST\n",
    "    for index in range(len(sms)): #for each word in sms\n",
    "        if sms[index] != 0:           \n",
    "                weight_ham, weight_spam = likelihood_matrix_words.iloc[:, index]\n",
    "                tmp_spam.append(math.log(weight_spam)**sms[index])\n",
    "                tmp_ham.append(math.log(weight_ham)**sms[index])\n",
    "    likelihood_matrix_test[i][0] = float(np.sum(tmp_ham))\n",
    "    likelihood_matrix_test[i][1] = float(np.sum(tmp_spam))"
   ]
  },
  {
   "cell_type": "code",
   "execution_count": 133,
   "id": "f35c4ccd",
   "metadata": {},
   "outputs": [],
   "source": [
    "likelihood_matrix_test_df = pd.DataFrame(likelihood_matrix_test, columns = [\"ham\", \"spam\"])"
   ]
  },
  {
   "cell_type": "code",
   "execution_count": 134,
   "id": "9fef81eb",
   "metadata": {},
   "outputs": [
    {
     "data": {
      "text/html": [
       "<div>\n",
       "<style scoped>\n",
       "    .dataframe tbody tr th:only-of-type {\n",
       "        vertical-align: middle;\n",
       "    }\n",
       "\n",
       "    .dataframe tbody tr th {\n",
       "        vertical-align: top;\n",
       "    }\n",
       "\n",
       "    .dataframe thead th {\n",
       "        text-align: right;\n",
       "    }\n",
       "</style>\n",
       "<table border=\"1\" class=\"dataframe\">\n",
       "  <thead>\n",
       "    <tr style=\"text-align: right;\">\n",
       "      <th></th>\n",
       "      <th>ham</th>\n",
       "      <th>spam</th>\n",
       "    </tr>\n",
       "  </thead>\n",
       "  <tbody>\n",
       "    <tr>\n",
       "      <th>0</th>\n",
       "      <td>547.365961</td>\n",
       "      <td>448.701492</td>\n",
       "    </tr>\n",
       "    <tr>\n",
       "      <th>1</th>\n",
       "      <td>-55.351324</td>\n",
       "      <td>13.740662</td>\n",
       "    </tr>\n",
       "    <tr>\n",
       "      <th>2</th>\n",
       "      <td>-49.481999</td>\n",
       "      <td>-22.515929</td>\n",
       "    </tr>\n",
       "    <tr>\n",
       "      <th>3</th>\n",
       "      <td>-55.284871</td>\n",
       "      <td>-70.480881</td>\n",
       "    </tr>\n",
       "    <tr>\n",
       "      <th>4</th>\n",
       "      <td>-194.017094</td>\n",
       "      <td>-141.752547</td>\n",
       "    </tr>\n",
       "    <tr>\n",
       "      <th>...</th>\n",
       "      <td>...</td>\n",
       "      <td>...</td>\n",
       "    </tr>\n",
       "    <tr>\n",
       "      <th>1110</th>\n",
       "      <td>-100.958365</td>\n",
       "      <td>-124.661683</td>\n",
       "    </tr>\n",
       "    <tr>\n",
       "      <th>1111</th>\n",
       "      <td>-69.071759</td>\n",
       "      <td>-76.834626</td>\n",
       "    </tr>\n",
       "    <tr>\n",
       "      <th>1112</th>\n",
       "      <td>-42.307824</td>\n",
       "      <td>-50.443480</td>\n",
       "    </tr>\n",
       "    <tr>\n",
       "      <th>1113</th>\n",
       "      <td>-13.324411</td>\n",
       "      <td>-16.532259</td>\n",
       "    </tr>\n",
       "    <tr>\n",
       "      <th>1114</th>\n",
       "      <td>-111.322988</td>\n",
       "      <td>-93.489315</td>\n",
       "    </tr>\n",
       "  </tbody>\n",
       "</table>\n",
       "<p>1115 rows × 2 columns</p>\n",
       "</div>"
      ],
      "text/plain": [
       "             ham        spam\n",
       "0     547.365961  448.701492\n",
       "1     -55.351324   13.740662\n",
       "2     -49.481999  -22.515929\n",
       "3     -55.284871  -70.480881\n",
       "4    -194.017094 -141.752547\n",
       "...          ...         ...\n",
       "1110 -100.958365 -124.661683\n",
       "1111  -69.071759  -76.834626\n",
       "1112  -42.307824  -50.443480\n",
       "1113  -13.324411  -16.532259\n",
       "1114 -111.322988  -93.489315\n",
       "\n",
       "[1115 rows x 2 columns]"
      ]
     },
     "execution_count": 134,
     "metadata": {},
     "output_type": "execute_result"
    }
   ],
   "source": [
    "# Add the log of the prior probabilities\n",
    "likelihood_final_test = np.zeros((len(X_test), 2))\n",
    "\n",
    "for i in range(len(X_test)):\n",
    "    for j in range(2):\n",
    "        likelihood_final_test[i][j] = likelihood_matrix_test[i][j] + math.log(P[j])\n",
    "\n",
    "likelihood_final_test = pd.DataFrame(likelihood_final_test, columns = [\"ham\", \"spam\"])\n",
    "likelihood_final_test"
   ]
  },
  {
   "cell_type": "code",
   "execution_count": 135,
   "id": "3cc6e191",
   "metadata": {},
   "outputs": [],
   "source": [
    "prob_spam_test = abs(likelihood_final_test['spam']) / (abs(likelihood_final_test['spam']) + abs(likelihood_final_test['ham']))"
   ]
  },
  {
   "cell_type": "code",
   "execution_count": 136,
   "id": "8fda1102",
   "metadata": {},
   "outputs": [
    {
     "data": {
      "text/plain": [
       "0       0.450473\n",
       "1       0.198875\n",
       "2       0.312730\n",
       "3       0.560414\n",
       "4       0.422172\n",
       "          ...   \n",
       "1110    0.552529\n",
       "1111    0.526602\n",
       "1112    0.543857\n",
       "1113    0.553721\n",
       "1114    0.456463\n",
       "Length: 1115, dtype: float64"
      ]
     },
     "execution_count": 136,
     "metadata": {},
     "output_type": "execute_result"
    }
   ],
   "source": [
    "prob_spam_test"
   ]
  },
  {
   "cell_type": "code",
   "execution_count": 137,
   "id": "9dbd8a97",
   "metadata": {},
   "outputs": [
    {
     "data": {
      "text/plain": [
       "0       0\n",
       "1       1\n",
       "2       1\n",
       "3       0\n",
       "4       1\n",
       "       ..\n",
       "1110    0\n",
       "1111    0\n",
       "1112    0\n",
       "1113    0\n",
       "1114    1\n",
       "Length: 1115, dtype: int64"
      ]
     },
     "execution_count": 137,
     "metadata": {},
     "output_type": "execute_result"
    }
   ],
   "source": [
    "# Take the max value between the two log-likelihoods to predict the label\n",
    "res_test = likelihood_final_test.idxmax(axis = 1)\n",
    "\n",
    "# Replace 'ham' with 0 and 'spam' with 1\n",
    "res_test = res_test.replace(\"ham\", 0)\n",
    "res_test = res_test.replace(\"spam\", 1)\n",
    "\n",
    "res_test"
   ]
  },
  {
   "cell_type": "code",
   "execution_count": 138,
   "id": "28bae580",
   "metadata": {
    "scrolled": true
   },
   "outputs": [
    {
     "data": {
      "text/plain": [
       "array([[813, 152],\n",
       "       [ 43, 107]])"
      ]
     },
     "execution_count": 138,
     "metadata": {},
     "output_type": "execute_result"
    }
   ],
   "source": [
    "cm = confusion_matrix(y_test, res_test)\n",
    "cm"
   ]
  },
  {
   "cell_type": "code",
   "execution_count": 139,
   "id": "63b0e886",
   "metadata": {},
   "outputs": [
    {
     "data": {
      "image/png": "[encoded data removed]",
      "text/plain": [
       "<Figure size 432x288 with 2 Axes>"
      ]
     },
     "metadata": {},
     "output_type": "display_data"
    }
   ],
   "source": [
    "sns.set_theme(style=\"white\")\n",
    "disp = ConfusionMatrixDisplay(cm)\n",
    "disp.plot()\n",
    "plt.show()"
   ]
  },
  {
   "cell_type": "code",
   "execution_count": 140,
   "id": "c850c509",
   "metadata": {},
   "outputs": [
    {
     "name": "stdout",
     "output_type": "stream",
     "text": [
      "              precision    recall  f1-score   support\n",
      "\n",
      "           0       0.95      0.84      0.89       965\n",
      "           1       0.41      0.71      0.52       150\n",
      "\n",
      "    accuracy                           0.83      1115\n",
      "   macro avg       0.68      0.78      0.71      1115\n",
      "weighted avg       0.88      0.83      0.84      1115\n",
      "\n"
     ]
    }
   ],
   "source": [
    "print(classification_report(y_test, res_test))"
   ]
  },
  {
   "cell_type": "code",
   "execution_count": 141,
   "id": "3d148aaa-e383-41b2-b567-b807e34ae8a1",
   "metadata": {},
   "outputs": [
    {
     "name": "stdout",
     "output_type": "stream",
     "text": [
      "true positive Rate 0.9497663551401869\n",
      "false positive Rate 0.5868725868725869\n"
     ]
    }
   ],
   "source": [
    "true_positive=cm[0,0]\n",
    "false_negative=cm[1,0]\n",
    "false_positive=cm[0,1]\n",
    "true_negative=cm[1,1]\n",
    "\n",
    "true_positive_Rate=true_positive/(true_positive+false_negative)\n",
    "false_positive_Rate=false_positive/(false_positive+true_negative)\n",
    "\n",
    "print(\"true positive Rate\",true_positive_Rate)\n",
    "print(\"false positive Rate\",false_positive_Rate)"
   ]
  },
  {
   "cell_type": "code",
   "execution_count": 142,
   "id": "fc570008",
   "metadata": {},
   "outputs": [],
   "source": [
    "fpr, tpr, threshold = roc_curve(y_test, 1-prob_spam_test)"
   ]
  },
  {
   "cell_type": "code",
   "execution_count": 143,
   "id": "d6856004",
   "metadata": {},
   "outputs": [
    {
     "data": {
      "image/png": "[encoded data removed]",
      "text/plain": [
       "<Figure size 432x288 with 1 Axes>"
      ]
     },
     "metadata": {},
     "output_type": "display_data"
    }
   ],
   "source": [
    "# plot the roc curve for the model\n",
    "plt.plot([0,1], [0,1], linestyle='--', label='just tossing a coin')\n",
    "plt.plot(fpr, tpr, marker='.', label='Naive Bayes')\n",
    "# axis labels\n",
    "plt.xlabel('False Positive Rate')\n",
    "plt.ylabel('True Positive Rate')\n",
    "plt.legend()\n",
    "# show the plot\n",
    "plt.show()"
   ]
  },
  {
   "cell_type": "code",
   "execution_count": 144,
   "id": "ec2cf177-727c-4f07-8055-f61cb47d4e01",
   "metadata": {},
   "outputs": [
    {
     "name": "stdout",
     "output_type": "stream",
     "text": [
      "Threshold value is: 0.49256286162568874\n",
      "TPR  0.8466666666666667\n",
      "FPR  0.11295336787564766\n"
     ]
    }
   ],
   "source": [
    "optimal_idx = np.argmax(tpr - fpr)\n",
    "optimal_threshold = threshold[optimal_idx]\n",
    "print(\"Threshold value is:\", optimal_threshold)\n",
    "print(\"TPR \",tpr[optimal_idx])\n",
    "print(\"FPR \",fpr[optimal_idx])"
   ]
  },
  {
   "cell_type": "markdown",
   "id": "0837efb6",
   "metadata": {},
   "source": [
    "# Phase 4: Compare with other classifiers"
   ]
  },
  {
   "cell_type": "markdown",
   "id": "c09ed8b0",
   "metadata": {},
   "source": [
    "Including **MultinomialNB** from *sklearn*."
   ]
  },
  {
   "cell_type": "code",
   "execution_count": 145,
   "id": "5713970c",
   "metadata": {},
   "outputs": [
    {
     "ename": "KeyboardInterrupt",
     "evalue": "",
     "output_type": "error",
     "traceback": [
      "\u001b[0;31m---------------------------------------------------------------------------\u001b[0m",
      "\u001b[0;31mKeyboardInterrupt\u001b[0m                         Traceback (most recent call last)",
      "\u001b[0;32m/var/folders/d6/xshqlwy95wbdclc69l6m3s600000gn/T/ipykernel_20690/1837697751.py\u001b[0m in \u001b[0;36m<module>\u001b[0;34m\u001b[0m\n\u001b[1;32m      6\u001b[0m \u001b[0;34m\u001b[0m\u001b[0m\n\u001b[1;32m      7\u001b[0m \u001b[0;32mfor\u001b[0m \u001b[0mcls\u001b[0m \u001b[0;32min\u001b[0m \u001b[0mclassifiers\u001b[0m\u001b[0;34m:\u001b[0m\u001b[0;34m\u001b[0m\u001b[0;34m\u001b[0m\u001b[0m\n\u001b[0;32m----> 8\u001b[0;31m     \u001b[0mcls\u001b[0m\u001b[0;34m.\u001b[0m\u001b[0mfit\u001b[0m\u001b[0;34m(\u001b[0m\u001b[0mX_train\u001b[0m\u001b[0;34m,\u001b[0m \u001b[0my_train\u001b[0m\u001b[0;34m)\u001b[0m\u001b[0;34m\u001b[0m\u001b[0;34m\u001b[0m\u001b[0m\n\u001b[0m\u001b[1;32m      9\u001b[0m \u001b[0;34m\u001b[0m\u001b[0m\n\u001b[1;32m     10\u001b[0m \u001b[0;31m# Dictionary of pipelines and model types for ease of reference\u001b[0m\u001b[0;34m\u001b[0m\u001b[0;34m\u001b[0m\u001b[0;34m\u001b[0m\u001b[0m\n",
      "\u001b[0;32m~/opt/anaconda3/envs/Adm/lib/python3.8/site-packages/sklearn/svm/_base.py\u001b[0m in \u001b[0;36mfit\u001b[0;34m(self, X, y, sample_weight)\u001b[0m\n\u001b[1;32m    215\u001b[0m \u001b[0;34m\u001b[0m\u001b[0m\n\u001b[1;32m    216\u001b[0m         \u001b[0mseed\u001b[0m \u001b[0;34m=\u001b[0m \u001b[0mrnd\u001b[0m\u001b[0;34m.\u001b[0m\u001b[0mrandint\u001b[0m\u001b[0;34m(\u001b[0m\u001b[0mnp\u001b[0m\u001b[0;34m.\u001b[0m\u001b[0miinfo\u001b[0m\u001b[0;34m(\u001b[0m\u001b[0;34m'i'\u001b[0m\u001b[0;34m)\u001b[0m\u001b[0;34m.\u001b[0m\u001b[0mmax\u001b[0m\u001b[0;34m)\u001b[0m\u001b[0;34m\u001b[0m\u001b[0;34m\u001b[0m\u001b[0m\n\u001b[0;32m--> 217\u001b[0;31m         \u001b[0mfit\u001b[0m\u001b[0;34m(\u001b[0m\u001b[0mX\u001b[0m\u001b[0;34m,\u001b[0m \u001b[0my\u001b[0m\u001b[0;34m,\u001b[0m \u001b[0msample_weight\u001b[0m\u001b[0;34m,\u001b[0m \u001b[0msolver_type\u001b[0m\u001b[0;34m,\u001b[0m \u001b[0mkernel\u001b[0m\u001b[0;34m,\u001b[0m \u001b[0mrandom_seed\u001b[0m\u001b[0;34m=\u001b[0m\u001b[0mseed\u001b[0m\u001b[0;34m)\u001b[0m\u001b[0;34m\u001b[0m\u001b[0;34m\u001b[0m\u001b[0m\n\u001b[0m\u001b[1;32m    218\u001b[0m         \u001b[0;31m# see comment on the other call to np.iinfo in this file\u001b[0m\u001b[0;34m\u001b[0m\u001b[0;34m\u001b[0m\u001b[0;34m\u001b[0m\u001b[0m\n\u001b[1;32m    219\u001b[0m \u001b[0;34m\u001b[0m\u001b[0m\n",
      "\u001b[0;32m~/opt/anaconda3/envs/Adm/lib/python3.8/site-packages/sklearn/svm/_base.py\u001b[0m in \u001b[0;36m_dense_fit\u001b[0;34m(self, X, y, sample_weight, solver_type, kernel, random_seed)\u001b[0m\n\u001b[1;32m    266\u001b[0m         \u001b[0mself\u001b[0m\u001b[0;34m.\u001b[0m\u001b[0msupport_\u001b[0m\u001b[0;34m,\u001b[0m \u001b[0mself\u001b[0m\u001b[0;34m.\u001b[0m\u001b[0msupport_vectors_\u001b[0m\u001b[0;34m,\u001b[0m \u001b[0mself\u001b[0m\u001b[0;34m.\u001b[0m\u001b[0m_n_support\u001b[0m\u001b[0;34m,\u001b[0m\u001b[0;31m \u001b[0m\u001b[0;31m\\\u001b[0m\u001b[0;34m\u001b[0m\u001b[0;34m\u001b[0m\u001b[0m\n\u001b[1;32m    267\u001b[0m             \u001b[0mself\u001b[0m\u001b[0;34m.\u001b[0m\u001b[0mdual_coef_\u001b[0m\u001b[0;34m,\u001b[0m \u001b[0mself\u001b[0m\u001b[0;34m.\u001b[0m\u001b[0mintercept_\u001b[0m\u001b[0;34m,\u001b[0m \u001b[0mself\u001b[0m\u001b[0;34m.\u001b[0m\u001b[0m_probA\u001b[0m\u001b[0;34m,\u001b[0m\u001b[0;31m \u001b[0m\u001b[0;31m\\\u001b[0m\u001b[0;34m\u001b[0m\u001b[0;34m\u001b[0m\u001b[0m\n\u001b[0;32m--> 268\u001b[0;31m             self._probB, self.fit_status_ = libsvm.fit(\n\u001b[0m\u001b[1;32m    269\u001b[0m                 \u001b[0mX\u001b[0m\u001b[0;34m,\u001b[0m \u001b[0my\u001b[0m\u001b[0;34m,\u001b[0m\u001b[0;34m\u001b[0m\u001b[0;34m\u001b[0m\u001b[0m\n\u001b[1;32m    270\u001b[0m                 \u001b[0msvm_type\u001b[0m\u001b[0;34m=\u001b[0m\u001b[0msolver_type\u001b[0m\u001b[0;34m,\u001b[0m \u001b[0msample_weight\u001b[0m\u001b[0;34m=\u001b[0m\u001b[0msample_weight\u001b[0m\u001b[0;34m,\u001b[0m\u001b[0;34m\u001b[0m\u001b[0;34m\u001b[0m\u001b[0m\n",
      "\u001b[0;31mKeyboardInterrupt\u001b[0m: "
     ]
    }
   ],
   "source": [
    "#Testing on the following classifiers\n",
    "classifiers = [MultinomialNB(),\n",
    "               KNeighborsClassifier(), \n",
    "               SVC(),\n",
    "              LogisticRegression()]\n",
    "\n",
    "for cls in classifiers:\n",
    "    cls.fit(X_train, y_train)\n",
    "\n",
    "# Dictionary of pipelines and model types for ease of reference\n",
    "class_dict = {0: \"NaiveBayes\", 1: \"KNeighbours\", 2: \"SVC\", 3: \"LogisticRegression\"}"
   ]
  },
  {
   "cell_type": "code",
   "execution_count": null,
   "id": "a105cb74",
   "metadata": {},
   "outputs": [],
   "source": [
    "# Cossvalidation \n",
    "for i, model in enumerate(classifiers):\n",
    "    cv_score = cross_val_score(model, X_train, y_train, scoring = \"accuracy\")\n",
    "    print(\"%s: %f \" % (class_dict[i], cv_score.mean()))"
   ]
  },
  {
   "cell_type": "markdown",
   "id": "a8e20945",
   "metadata": {},
   "source": [
    "## Model evaluation"
   ]
  },
  {
   "cell_type": "code",
   "execution_count": null,
   "id": "7d141493",
   "metadata": {},
   "outputs": [],
   "source": [
    "# Model Evaluation\n",
    "# creating lists of varios scores\n",
    "precision =[]\n",
    "recall =[]\n",
    "f1_score = []\n",
    "trainset_accuracy = []\n",
    "testset_accuracy = []\n",
    "\n",
    "for i in classifiers:\n",
    "    pred_train = i.predict(X_train)\n",
    "    pred_test = i.predict(X_test)\n",
    "    prec = precision_score(y_test, pred_test)\n",
    "    recal = recall_score(y_test, pred_test)\n",
    "    #f1_s = f1_score(y_test, pred_test)\n",
    "    train_accuracy = model.score(X_train, y_train)\n",
    "    test_accuracy = model.score(X_test, y_test)\n",
    "  \n",
    "    #Appending scores\n",
    "    precision.append(prec)\n",
    "    recall.append(recal)\n",
    "    #f1_score.append(f1_s)\n",
    "    trainset_accuracy.append(train_accuracy)\n",
    "    testset_accuracy.append(test_accuracy)"
   ]
  },
  {
   "cell_type": "code",
   "execution_count": null,
   "id": "eadf234c",
   "metadata": {},
   "outputs": [],
   "source": [
    "# initialise data of lists.\n",
    "data = {'Precision':precision,\n",
    "'Recall':recall,\n",
    "#'F1score':f1_score,\n",
    "'Accuracy on Testset':testset_accuracy,\n",
    "'Accuracy on Trainset':trainset_accuracy}\n",
    "# Creates pandas DataFrame.\n",
    "Results = pd.DataFrame(data, index =[\"NaiveBayes\", \"KNeighbours\", \"SVC\", \"LogisticRegression\"])"
   ]
  },
  {
   "cell_type": "code",
   "execution_count": null,
   "id": "2061808e",
   "metadata": {},
   "outputs": [],
   "source": [
    "cmap2 = ListedColormap([\"#E2CCFF\", \"#E598D8\"])\n",
    "Results.style.background_gradient(cmap = cmap2)"
   ]
  },
  {
   "cell_type": "code",
   "execution_count": null,
   "id": "91728e9c-9eef-41a7-8865-a5241e576ab0",
   "metadata": {},
   "outputs": [],
   "source": []
  }
 ],
 "metadata": {
  "kernelspec": {
   "display_name": "Python 3 (ipykernel)",
   "language": "python",
   "name": "python3"
  },
  "language_info": {
   "codemirror_mode": {
    "name": "ipython",
    "version": 3
   },
   "file_extension": ".py",
   "mimetype": "text/x-python",
   "name": "python",
   "nbconvert_exporter": "python",
   "pygments_lexer": "ipython3",
   "version": "3.8.12"
  }
 },
 "nbformat": 4,
 "nbformat_minor": 5
}
