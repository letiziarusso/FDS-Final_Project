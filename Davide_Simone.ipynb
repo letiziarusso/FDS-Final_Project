{
 "cells": [
  {
   "cell_type": "code",
   "execution_count": 114,
   "id": "0ae51def",
   "metadata": {},
   "outputs": [],
   "source": [
    "import warnings\n",
    "import matplotlib.pyplot as plt\n",
    "import seaborn as sns\n",
    "import numpy as np \n",
    "import pandas as pd\n",
    "import re\n",
    "import nltk\n",
    "import string\n",
    "import math\n",
    "\n",
    "from matplotlib.colors import ListedColormap\n",
    "from nltk.corpus import stopwords\n",
    "from nltk.tokenize import word_tokenize\n",
    "from nltk.stem import WordNetLemmatizer\n",
    "from sklearn.model_selection import train_test_split, cross_val_score\n",
    "from sklearn.linear_model import LogisticRegression\n",
    "from sklearn.svm import SVC\n",
    "from sklearn.naive_bayes import MultinomialNB\n",
    "from sklearn.neighbors import KNeighborsClassifier\n",
    "from sklearn.metrics import confusion_matrix, roc_curve, roc_auc_score, auc, ConfusionMatrixDisplay, classification_report\n",
    "from sklearn.metrics import precision_score, recall_score, f1_score"
   ]
  },
  {
   "cell_type": "markdown",
   "id": "0244a0d2",
   "metadata": {},
   "source": [
    "# Phase 0 : Exploratory Data Analysis"
   ]
  },
  {
   "cell_type": "code",
   "execution_count": 122,
   "id": "65b60081-2d42-42b7-bdea-d2c71426a65b",
   "metadata": {},
   "outputs": [
    {
     "data": {
      "text/html": [
       "<div>\n",
       "<style scoped>\n",
       "    .dataframe tbody tr th:only-of-type {\n",
       "        vertical-align: middle;\n",
       "    }\n",
       "\n",
       "    .dataframe tbody tr th {\n",
       "        vertical-align: top;\n",
       "    }\n",
       "\n",
       "    .dataframe thead th {\n",
       "        text-align: right;\n",
       "    }\n",
       "</style>\n",
       "<table border=\"1\" class=\"dataframe\">\n",
       "  <thead>\n",
       "    <tr style=\"text-align: right;\">\n",
       "      <th></th>\n",
       "      <th>v1</th>\n",
       "      <th>v2</th>\n",
       "      <th>Unnamed: 2</th>\n",
       "      <th>Unnamed: 3</th>\n",
       "      <th>Unnamed: 4</th>\n",
       "    </tr>\n",
       "  </thead>\n",
       "  <tbody>\n",
       "    <tr>\n",
       "      <th>0</th>\n",
       "      <td>ham</td>\n",
       "      <td>Go until jurong point, crazy.. Available only ...</td>\n",
       "      <td>NaN</td>\n",
       "      <td>NaN</td>\n",
       "      <td>NaN</td>\n",
       "    </tr>\n",
       "    <tr>\n",
       "      <th>1</th>\n",
       "      <td>ham</td>\n",
       "      <td>Ok lar... Joking wif u oni...</td>\n",
       "      <td>NaN</td>\n",
       "      <td>NaN</td>\n",
       "      <td>NaN</td>\n",
       "    </tr>\n",
       "    <tr>\n",
       "      <th>2</th>\n",
       "      <td>spam</td>\n",
       "      <td>Free entry in 2 a wkly comp to win FA Cup fina...</td>\n",
       "      <td>NaN</td>\n",
       "      <td>NaN</td>\n",
       "      <td>NaN</td>\n",
       "    </tr>\n",
       "    <tr>\n",
       "      <th>3</th>\n",
       "      <td>ham</td>\n",
       "      <td>U dun say so early hor... U c already then say...</td>\n",
       "      <td>NaN</td>\n",
       "      <td>NaN</td>\n",
       "      <td>NaN</td>\n",
       "    </tr>\n",
       "    <tr>\n",
       "      <th>4</th>\n",
       "      <td>ham</td>\n",
       "      <td>Nah I don't think he goes to usf, he lives aro...</td>\n",
       "      <td>NaN</td>\n",
       "      <td>NaN</td>\n",
       "      <td>NaN</td>\n",
       "    </tr>\n",
       "  </tbody>\n",
       "</table>\n",
       "</div>"
      ],
      "text/plain": [
       "     v1                                                 v2 Unnamed: 2  \\\n",
       "0   ham  Go until jurong point, crazy.. Available only ...        NaN   \n",
       "1   ham                      Ok lar... Joking wif u oni...        NaN   \n",
       "2  spam  Free entry in 2 a wkly comp to win FA Cup fina...        NaN   \n",
       "3   ham  U dun say so early hor... U c already then say...        NaN   \n",
       "4   ham  Nah I don't think he goes to usf, he lives aro...        NaN   \n",
       "\n",
       "  Unnamed: 3 Unnamed: 4  \n",
       "0        NaN        NaN  \n",
       "1        NaN        NaN  \n",
       "2        NaN        NaN  \n",
       "3        NaN        NaN  \n",
       "4        NaN        NaN  "
      ]
     },
     "execution_count": 122,
     "metadata": {},
     "output_type": "execute_result"
    }
   ],
   "source": [
    "df = pd.read_csv(\"spam.csv\", encoding = \"ISO-8859-1\")\n",
    "df.head()"
   ]
  },
  {
   "cell_type": "code",
   "execution_count": 123,
   "id": "fea59ced",
   "metadata": {
    "scrolled": false
   },
   "outputs": [
    {
     "data": {
      "text/html": [
       "<div>\n",
       "<style scoped>\n",
       "    .dataframe tbody tr th:only-of-type {\n",
       "        vertical-align: middle;\n",
       "    }\n",
       "\n",
       "    .dataframe tbody tr th {\n",
       "        vertical-align: top;\n",
       "    }\n",
       "\n",
       "    .dataframe thead th {\n",
       "        text-align: right;\n",
       "    }\n",
       "</style>\n",
       "<table border=\"1\" class=\"dataframe\">\n",
       "  <thead>\n",
       "    <tr style=\"text-align: right;\">\n",
       "      <th></th>\n",
       "      <th>Target</th>\n",
       "      <th>Text</th>\n",
       "    </tr>\n",
       "  </thead>\n",
       "  <tbody>\n",
       "    <tr>\n",
       "      <th>0</th>\n",
       "      <td>ham</td>\n",
       "      <td>Go until jurong point, crazy.. Available only ...</td>\n",
       "    </tr>\n",
       "    <tr>\n",
       "      <th>1</th>\n",
       "      <td>ham</td>\n",
       "      <td>Ok lar... Joking wif u oni...</td>\n",
       "    </tr>\n",
       "    <tr>\n",
       "      <th>2</th>\n",
       "      <td>spam</td>\n",
       "      <td>Free entry in 2 a wkly comp to win FA Cup fina...</td>\n",
       "    </tr>\n",
       "    <tr>\n",
       "      <th>3</th>\n",
       "      <td>ham</td>\n",
       "      <td>U dun say so early hor... U c already then say...</td>\n",
       "    </tr>\n",
       "    <tr>\n",
       "      <th>4</th>\n",
       "      <td>ham</td>\n",
       "      <td>Nah I don't think he goes to usf, he lives aro...</td>\n",
       "    </tr>\n",
       "  </tbody>\n",
       "</table>\n",
       "</div>"
      ],
      "text/plain": [
       "  Target                                               Text\n",
       "0    ham  Go until jurong point, crazy.. Available only ...\n",
       "1    ham                      Ok lar... Joking wif u oni...\n",
       "2   spam  Free entry in 2 a wkly comp to win FA Cup fina...\n",
       "3    ham  U dun say so early hor... U c already then say...\n",
       "4    ham  Nah I don't think he goes to usf, he lives aro..."
      ]
     },
     "execution_count": 123,
     "metadata": {},
     "output_type": "execute_result"
    }
   ],
   "source": [
    "# We drop the redundent looking columns\n",
    "unuseful = [\"Unnamed: 2\",\"Unnamed: 3\",\"Unnamed: 4\"]\n",
    "df = df.drop(df[unuseful], axis=1)\n",
    "\n",
    "# We rename the columns in order to make them more understandable\n",
    "df.rename(columns = {\"v1\": \"Target\", \"v2\": \"Text\"}, inplace = True)\n",
    "df.head()"
   ]
  },
  {
   "cell_type": "code",
   "execution_count": 136,
   "id": "7c51f443",
   "metadata": {},
   "outputs": [
    {
     "name": "stdout",
     "output_type": "stream",
     "text": [
      "I'm gonna be home soon and i don't want to talk about this stuff anymore tonight, k? I've cried enough today.\n",
      "WINNER!! As a valued network customer you have been selected to receivea å£900 prize reward! To claim call 09061701461. Claim code KL341. Valid 12 hours only.\n"
     ]
    }
   ],
   "source": [
    "print(df['Text'][10])\n",
    "print(df['Text'][8])"
   ]
  },
  {
   "cell_type": "markdown",
   "id": "3e62d52b",
   "metadata": {},
   "source": [
    "Plot something useful. Taken from [here](https://www.kaggle.com/karnikakapoor/spam-or-ham-sms-classifier)"
   ]
  },
  {
   "cell_type": "code",
   "execution_count": 44,
   "id": "6af57ccf",
   "metadata": {
    "scrolled": false
   },
   "outputs": [
    {
     "name": "stdout",
     "output_type": "stream",
     "text": [
      "Ham: 4825 \n",
      "Spam: 747\n"
     ]
    },
    {
     "data": {
      "text/plain": [
       "Text(0, 0.5, 'Number of Data points')"
      ]
     },
     "execution_count": 44,
     "metadata": {},
     "output_type": "execute_result"
    },
    {
     "data": {
      "image/png": "[encoded data removed]",
      "text/plain": [
       "<Figure size 864x576 with 1 Axes>"
      ]
     },
     "metadata": {},
     "output_type": "display_data"
    }
   ],
   "source": [
    "sns.set_theme()\n",
    "print('Ham:', len(df[df['Target'] == 'ham']), '\\nSpam:', len(df[df['Target'] == 'spam']))\n",
    "\n",
    "plt.figure(figsize=(12,8))\n",
    "fg = sns.countplot(x = df[\"Target\"])\n",
    "fg.set_title(\"Count Plot of Classes\", color=\"#58508d\")\n",
    "fg.set_xlabel(\"Classes\", color=\"#58508d\")\n",
    "fg.set_ylabel(\"Number of Data points\", color=\"#58508d\")"
   ]
  },
  {
   "cell_type": "code",
   "execution_count": 45,
   "id": "6d9d2914",
   "metadata": {
    "scrolled": true
   },
   "outputs": [
    {
     "data": {
      "text/html": [
       "<div>\n",
       "<style scoped>\n",
       "    .dataframe tbody tr th:only-of-type {\n",
       "        vertical-align: middle;\n",
       "    }\n",
       "\n",
       "    .dataframe tbody tr th {\n",
       "        vertical-align: top;\n",
       "    }\n",
       "\n",
       "    .dataframe thead th {\n",
       "        text-align: right;\n",
       "    }\n",
       "</style>\n",
       "<table border=\"1\" class=\"dataframe\">\n",
       "  <thead>\n",
       "    <tr style=\"text-align: right;\">\n",
       "      <th></th>\n",
       "      <th>count</th>\n",
       "      <th>mean</th>\n",
       "      <th>std</th>\n",
       "      <th>min</th>\n",
       "      <th>25%</th>\n",
       "      <th>50%</th>\n",
       "      <th>75%</th>\n",
       "      <th>max</th>\n",
       "    </tr>\n",
       "  </thead>\n",
       "  <tbody>\n",
       "    <tr>\n",
       "      <th>No_of_Characters</th>\n",
       "      <td>5572.0</td>\n",
       "      <td>80.118808</td>\n",
       "      <td>59.690841</td>\n",
       "      <td>2.0</td>\n",
       "      <td>36.0</td>\n",
       "      <td>61.0</td>\n",
       "      <td>121.0</td>\n",
       "      <td>910.0</td>\n",
       "    </tr>\n",
       "    <tr>\n",
       "      <th>No_of_Words</th>\n",
       "      <td>5572.0</td>\n",
       "      <td>18.698492</td>\n",
       "      <td>13.737477</td>\n",
       "      <td>1.0</td>\n",
       "      <td>9.0</td>\n",
       "      <td>15.0</td>\n",
       "      <td>27.0</td>\n",
       "      <td>220.0</td>\n",
       "    </tr>\n",
       "    <tr>\n",
       "      <th>No_of_sentence</th>\n",
       "      <td>5572.0</td>\n",
       "      <td>1.991565</td>\n",
       "      <td>1.501427</td>\n",
       "      <td>1.0</td>\n",
       "      <td>1.0</td>\n",
       "      <td>1.5</td>\n",
       "      <td>2.0</td>\n",
       "      <td>38.0</td>\n",
       "    </tr>\n",
       "  </tbody>\n",
       "</table>\n",
       "</div>"
      ],
      "text/plain": [
       "                   count       mean        std  min   25%   50%    75%    max\n",
       "No_of_Characters  5572.0  80.118808  59.690841  2.0  36.0  61.0  121.0  910.0\n",
       "No_of_Words       5572.0  18.698492  13.737477  1.0   9.0  15.0   27.0  220.0\n",
       "No_of_sentence    5572.0   1.991565   1.501427  1.0   1.0   1.5    2.0   38.0"
      ]
     },
     "execution_count": 45,
     "metadata": {},
     "output_type": "execute_result"
    }
   ],
   "source": [
    "data = df\n",
    "\n",
    "#Adding a column of numbers of charachters,words and sentences in each msg\n",
    "data[\"No_of_Characters\"] = data[\"Text\"].apply(len)\n",
    "data[\"No_of_Words\"]=data.apply(lambda row: nltk.word_tokenize(row[\"Text\"]), axis=1).apply(len)\n",
    "data[\"No_of_sentence\"]=data.apply(lambda row: nltk.sent_tokenize(row[\"Text\"]), axis=1).apply(len)\n",
    "\n",
    "data.describe().T"
   ]
  },
  {
   "cell_type": "code",
   "execution_count": 40,
   "id": "ea420367",
   "metadata": {
    "scrolled": false
   },
   "outputs": [
    {
     "data": {
      "text/plain": [
       "<Figure size 864x576 with 0 Axes>"
      ]
     },
     "metadata": {},
     "output_type": "display_data"
    },
    {
     "data": {
      "image/png": "[encoded data removed]",
      "text/plain": [
       "<Figure size 606.475x540 with 12 Axes>"
      ]
     },
     "metadata": {},
     "output_type": "display_data"
    }
   ],
   "source": [
    "plt.figure(figsize=(12,8))\n",
    "fg = sns.pairplot(data=data, hue=\"Target\")\n",
    "plt.show(fg)"
   ]
  },
  {
   "cell_type": "markdown",
   "id": "1fd7c2b0",
   "metadata": {},
   "source": [
    "# Phase 1: Data Preprocessing\n",
    "\n",
    "In order to further process the data, we need to make the data cleaner.\n",
    "\n",
    "In the first step we extract only the alphabetic characters, so we remove punctuation and numbers. Then we convert all the characters into lowercase."
   ]
  },
  {
   "cell_type": "code",
   "execution_count": 4,
   "id": "800b9939",
   "metadata": {},
   "outputs": [
    {
     "name": "stderr",
     "output_type": "stream",
     "text": [
      "[nltk_data] Downloading package wordnet to\n",
      "[nltk_data]     C:\\Users\\dcacc\\AppData\\Roaming\\nltk_data...\n",
      "[nltk_data]   Package wordnet is already up-to-date!\n"
     ]
    },
    {
     "data": {
      "text/plain": [
       "True"
      ]
     },
     "execution_count": 4,
     "metadata": {},
     "output_type": "execute_result"
    }
   ],
   "source": [
    "nltk.download('wordnet')"
   ]
  },
  {
   "cell_type": "code",
   "execution_count": 47,
   "id": "fbfd5ca4",
   "metadata": {},
   "outputs": [],
   "source": [
    "# pre-process a text : clean, tokenize and stem each word in text\n",
    "def pre_processing(text):\n",
    "    # Initialize lemmatizer\n",
    "    lemmatizer = WordNetLemmatizer()\n",
    "    \n",
    "    # Removing punctuation, lowercase the text, removing stopwords, map punctuation to space\n",
    "    translator = str.maketrans(string.punctuation, ' ' * len(string.punctuation))\n",
    "    p_text = text.translate(translator).lower()\n",
    "    ppt = \"\"\n",
    "    \n",
    "    for word in p_text.split():\n",
    "        if word not in stopwords.words('english'):\n",
    "            ppt += word + \" \"\n",
    "    text = ppt.strip(\" \")\n",
    "    token_words = word_tokenize(text)\n",
    "    lem_sentence = []\n",
    "    \n",
    "    for word in token_words:\n",
    "        lem_sentence.append(lemmatizer.lemmatize(word, pos ='v'))\n",
    "    return ' '.join(lem_sentence)\n",
    "\n",
    "df[\"Pre_processed_text\"] = df[\"Text\"].apply(pre_processing)"
   ]
  },
  {
   "cell_type": "code",
   "execution_count": 48,
   "id": "2c260421-a825-4901-85ec-118a3af5bf55",
   "metadata": {},
   "outputs": [],
   "source": [
    "# It creates a set for all the words\n",
    "bag_words = set()\n",
    "for sms in df[\"Pre_processed_text\"]:\n",
    "    for w in sms.split(\" \"):\n",
    "        if w != \"\":\n",
    "            bag_words = bag_words.union({w})\n",
    "  \n",
    "# Create a list of the words <- our corpus of words\n",
    "bag = list(bag_words)"
   ]
  },
  {
   "cell_type": "markdown",
   "id": "3ac60abc",
   "metadata": {},
   "source": [
    "# Phase 2: Extracting the Features"
   ]
  },
  {
   "cell_type": "code",
   "execution_count": 49,
   "id": "6bf1560d-5f7f-495c-9067-ef67f707d204",
   "metadata": {},
   "outputs": [],
   "source": [
    "# It returns a list of words for each sms\n",
    "def split_words(text, bag_words):\n",
    "    return text.split(\" \")"
   ]
  },
  {
   "cell_type": "code",
   "execution_count": 50,
   "id": "26e9ddcd-d07e-47c1-b0fe-0b03b2d58b10",
   "metadata": {},
   "outputs": [],
   "source": [
    "df[\"Words\"] = df[\"Pre_processed_text\"].apply(split_words, args = (bag_words,))"
   ]
  },
  {
   "cell_type": "code",
   "execution_count": 51,
   "id": "f9872d3e",
   "metadata": {},
   "outputs": [],
   "source": [
    "bag_len = len(bag) # Number of words in the bag # Size of the corpus\n",
    "\n",
    "# Vectorize each sms, assign 1 every time a specific word is in the sms\n",
    "def vectorize_sms(words):\n",
    "    vector = np.zeros(bag_len, dtype = \"int64\")\n",
    "    \n",
    "    for i in range(bag_len):\n",
    "        if bag[i] in words:\n",
    "            vector[i] += 1\n",
    "            \n",
    "    return vector"
   ]
  },
  {
   "cell_type": "code",
   "execution_count": 52,
   "id": "61638f3d",
   "metadata": {
    "scrolled": true
   },
   "outputs": [
    {
     "data": {
      "text/html": [
       "<div>\n",
       "<style scoped>\n",
       "    .dataframe tbody tr th:only-of-type {\n",
       "        vertical-align: middle;\n",
       "    }\n",
       "\n",
       "    .dataframe tbody tr th {\n",
       "        vertical-align: top;\n",
       "    }\n",
       "\n",
       "    .dataframe thead th {\n",
       "        text-align: right;\n",
       "    }\n",
       "</style>\n",
       "<table border=\"1\" class=\"dataframe\">\n",
       "  <thead>\n",
       "    <tr style=\"text-align: right;\">\n",
       "      <th></th>\n",
       "      <th>Target</th>\n",
       "      <th>Text</th>\n",
       "      <th>No_of_Characters</th>\n",
       "      <th>No_of_Words</th>\n",
       "      <th>No_of_sentence</th>\n",
       "      <th>Pre_processed_text</th>\n",
       "      <th>Words</th>\n",
       "      <th>Vector</th>\n",
       "    </tr>\n",
       "  </thead>\n",
       "  <tbody>\n",
       "    <tr>\n",
       "      <th>0</th>\n",
       "      <td>ham</td>\n",
       "      <td>Go until jurong point, crazy.. Available only ...</td>\n",
       "      <td>111</td>\n",
       "      <td>24</td>\n",
       "      <td>2</td>\n",
       "      <td>go jurong point crazy available bugis n great ...</td>\n",
       "      <td>[go, jurong, point, crazy, available, bugis, n...</td>\n",
       "      <td>[0, 0, 0, 0, 0, 0, 0, 0, 0, 0, 0, 0, 0, 0, 0, ...</td>\n",
       "    </tr>\n",
       "    <tr>\n",
       "      <th>1</th>\n",
       "      <td>ham</td>\n",
       "      <td>Ok lar... Joking wif u oni...</td>\n",
       "      <td>29</td>\n",
       "      <td>8</td>\n",
       "      <td>2</td>\n",
       "      <td>ok lar joke wif u oni</td>\n",
       "      <td>[ok, lar, joke, wif, u, oni]</td>\n",
       "      <td>[0, 0, 0, 0, 0, 0, 0, 0, 0, 0, 0, 0, 0, 0, 0, ...</td>\n",
       "    </tr>\n",
       "    <tr>\n",
       "      <th>2</th>\n",
       "      <td>spam</td>\n",
       "      <td>Free entry in 2 a wkly comp to win FA Cup fina...</td>\n",
       "      <td>155</td>\n",
       "      <td>37</td>\n",
       "      <td>2</td>\n",
       "      <td>free entry 2 wkly comp win fa cup final tkts 2...</td>\n",
       "      <td>[free, entry, 2, wkly, comp, win, fa, cup, fin...</td>\n",
       "      <td>[0, 0, 0, 0, 0, 0, 0, 0, 0, 0, 0, 0, 0, 0, 0, ...</td>\n",
       "    </tr>\n",
       "    <tr>\n",
       "      <th>3</th>\n",
       "      <td>ham</td>\n",
       "      <td>U dun say so early hor... U c already then say...</td>\n",
       "      <td>49</td>\n",
       "      <td>13</td>\n",
       "      <td>1</td>\n",
       "      <td>u dun say early hor u c already say</td>\n",
       "      <td>[u, dun, say, early, hor, u, c, already, say]</td>\n",
       "      <td>[0, 0, 0, 0, 0, 0, 0, 0, 0, 0, 0, 0, 0, 0, 0, ...</td>\n",
       "    </tr>\n",
       "    <tr>\n",
       "      <th>4</th>\n",
       "      <td>ham</td>\n",
       "      <td>Nah I don't think he goes to usf, he lives aro...</td>\n",
       "      <td>61</td>\n",
       "      <td>15</td>\n",
       "      <td>1</td>\n",
       "      <td>nah think go usf live around though</td>\n",
       "      <td>[nah, think, go, usf, live, around, though]</td>\n",
       "      <td>[0, 0, 0, 0, 0, 0, 0, 0, 0, 0, 0, 0, 0, 0, 0, ...</td>\n",
       "    </tr>\n",
       "    <tr>\n",
       "      <th>...</th>\n",
       "      <td>...</td>\n",
       "      <td>...</td>\n",
       "      <td>...</td>\n",
       "      <td>...</td>\n",
       "      <td>...</td>\n",
       "      <td>...</td>\n",
       "      <td>...</td>\n",
       "      <td>...</td>\n",
       "    </tr>\n",
       "    <tr>\n",
       "      <th>5567</th>\n",
       "      <td>spam</td>\n",
       "      <td>This is the 2nd time we have tried 2 contact u...</td>\n",
       "      <td>161</td>\n",
       "      <td>35</td>\n",
       "      <td>4</td>\n",
       "      <td>2nd time try 2 contact u u å£750 pound prize 2...</td>\n",
       "      <td>[2nd, time, try, 2, contact, u, u, å£750, poun...</td>\n",
       "      <td>[0, 0, 0, 0, 0, 0, 0, 0, 0, 0, 0, 0, 0, 0, 0, ...</td>\n",
       "    </tr>\n",
       "    <tr>\n",
       "      <th>5568</th>\n",
       "      <td>ham</td>\n",
       "      <td>Will Ì_ b going to esplanade fr home?</td>\n",
       "      <td>37</td>\n",
       "      <td>9</td>\n",
       "      <td>1</td>\n",
       "      <td>ì b go esplanade fr home</td>\n",
       "      <td>[ì, b, go, esplanade, fr, home]</td>\n",
       "      <td>[0, 0, 0, 0, 0, 0, 0, 0, 0, 0, 0, 0, 0, 0, 0, ...</td>\n",
       "    </tr>\n",
       "    <tr>\n",
       "      <th>5569</th>\n",
       "      <td>ham</td>\n",
       "      <td>Pity, * was in mood for that. So...any other s...</td>\n",
       "      <td>57</td>\n",
       "      <td>15</td>\n",
       "      <td>2</td>\n",
       "      <td>pity mood suggestions</td>\n",
       "      <td>[pity, mood, suggestions]</td>\n",
       "      <td>[0, 0, 0, 0, 0, 0, 0, 0, 0, 0, 0, 0, 0, 0, 0, ...</td>\n",
       "    </tr>\n",
       "    <tr>\n",
       "      <th>5570</th>\n",
       "      <td>ham</td>\n",
       "      <td>The guy did some bitching but I acted like i'd...</td>\n",
       "      <td>125</td>\n",
       "      <td>27</td>\n",
       "      <td>1</td>\n",
       "      <td>guy bitch act like interest buy something else...</td>\n",
       "      <td>[guy, bitch, act, like, interest, buy, somethi...</td>\n",
       "      <td>[0, 0, 0, 0, 0, 0, 0, 0, 0, 0, 0, 0, 0, 0, 0, ...</td>\n",
       "    </tr>\n",
       "    <tr>\n",
       "      <th>5571</th>\n",
       "      <td>ham</td>\n",
       "      <td>Rofl. Its true to its name</td>\n",
       "      <td>26</td>\n",
       "      <td>7</td>\n",
       "      <td>2</td>\n",
       "      <td>rofl true name</td>\n",
       "      <td>[rofl, true, name]</td>\n",
       "      <td>[0, 0, 0, 0, 0, 0, 0, 0, 0, 0, 0, 0, 0, 0, 0, ...</td>\n",
       "    </tr>\n",
       "  </tbody>\n",
       "</table>\n",
       "<p>5572 rows × 8 columns</p>\n",
       "</div>"
      ],
      "text/plain": [
       "     Target                                               Text  \\\n",
       "0       ham  Go until jurong point, crazy.. Available only ...   \n",
       "1       ham                      Ok lar... Joking wif u oni...   \n",
       "2      spam  Free entry in 2 a wkly comp to win FA Cup fina...   \n",
       "3       ham  U dun say so early hor... U c already then say...   \n",
       "4       ham  Nah I don't think he goes to usf, he lives aro...   \n",
       "...     ...                                                ...   \n",
       "5567   spam  This is the 2nd time we have tried 2 contact u...   \n",
       "5568    ham              Will Ì_ b going to esplanade fr home?   \n",
       "5569    ham  Pity, * was in mood for that. So...any other s...   \n",
       "5570    ham  The guy did some bitching but I acted like i'd...   \n",
       "5571    ham                         Rofl. Its true to its name   \n",
       "\n",
       "      No_of_Characters  No_of_Words  No_of_sentence  \\\n",
       "0                  111           24               2   \n",
       "1                   29            8               2   \n",
       "2                  155           37               2   \n",
       "3                   49           13               1   \n",
       "4                   61           15               1   \n",
       "...                ...          ...             ...   \n",
       "5567               161           35               4   \n",
       "5568                37            9               1   \n",
       "5569                57           15               2   \n",
       "5570               125           27               1   \n",
       "5571                26            7               2   \n",
       "\n",
       "                                     Pre_processed_text  \\\n",
       "0     go jurong point crazy available bugis n great ...   \n",
       "1                                 ok lar joke wif u oni   \n",
       "2     free entry 2 wkly comp win fa cup final tkts 2...   \n",
       "3                   u dun say early hor u c already say   \n",
       "4                   nah think go usf live around though   \n",
       "...                                                 ...   \n",
       "5567  2nd time try 2 contact u u å£750 pound prize 2...   \n",
       "5568                           ì b go esplanade fr home   \n",
       "5569                              pity mood suggestions   \n",
       "5570  guy bitch act like interest buy something else...   \n",
       "5571                                     rofl true name   \n",
       "\n",
       "                                                  Words  \\\n",
       "0     [go, jurong, point, crazy, available, bugis, n...   \n",
       "1                          [ok, lar, joke, wif, u, oni]   \n",
       "2     [free, entry, 2, wkly, comp, win, fa, cup, fin...   \n",
       "3         [u, dun, say, early, hor, u, c, already, say]   \n",
       "4           [nah, think, go, usf, live, around, though]   \n",
       "...                                                 ...   \n",
       "5567  [2nd, time, try, 2, contact, u, u, å£750, poun...   \n",
       "5568                    [ì, b, go, esplanade, fr, home]   \n",
       "5569                          [pity, mood, suggestions]   \n",
       "5570  [guy, bitch, act, like, interest, buy, somethi...   \n",
       "5571                                 [rofl, true, name]   \n",
       "\n",
       "                                                 Vector  \n",
       "0     [0, 0, 0, 0, 0, 0, 0, 0, 0, 0, 0, 0, 0, 0, 0, ...  \n",
       "1     [0, 0, 0, 0, 0, 0, 0, 0, 0, 0, 0, 0, 0, 0, 0, ...  \n",
       "2     [0, 0, 0, 0, 0, 0, 0, 0, 0, 0, 0, 0, 0, 0, 0, ...  \n",
       "3     [0, 0, 0, 0, 0, 0, 0, 0, 0, 0, 0, 0, 0, 0, 0, ...  \n",
       "4     [0, 0, 0, 0, 0, 0, 0, 0, 0, 0, 0, 0, 0, 0, 0, ...  \n",
       "...                                                 ...  \n",
       "5567  [0, 0, 0, 0, 0, 0, 0, 0, 0, 0, 0, 0, 0, 0, 0, ...  \n",
       "5568  [0, 0, 0, 0, 0, 0, 0, 0, 0, 0, 0, 0, 0, 0, 0, ...  \n",
       "5569  [0, 0, 0, 0, 0, 0, 0, 0, 0, 0, 0, 0, 0, 0, 0, ...  \n",
       "5570  [0, 0, 0, 0, 0, 0, 0, 0, 0, 0, 0, 0, 0, 0, 0, ...  \n",
       "5571  [0, 0, 0, 0, 0, 0, 0, 0, 0, 0, 0, 0, 0, 0, 0, ...  \n",
       "\n",
       "[5572 rows x 8 columns]"
      ]
     },
     "execution_count": 52,
     "metadata": {},
     "output_type": "execute_result"
    }
   ],
   "source": [
    "df[\"Vector\"] = df[\"Words\"].apply(vectorize_sms)\n",
    "df "
   ]
  },
  {
   "cell_type": "markdown",
   "id": "5f221a1e",
   "metadata": {},
   "source": [
    "Create a dataframe ready for the analysis. It has the sms (documents) on the row and the words (features) on the columns. \n",
    "This dataframe counts the words in the sms."
   ]
  },
  {
   "cell_type": "code",
   "execution_count": 55,
   "id": "41984826-dfd2-46ad-97bc-b5bb85a17709",
   "metadata": {},
   "outputs": [
    {
     "data": {
      "text/html": [
       "<div>\n",
       "<style scoped>\n",
       "    .dataframe tbody tr th:only-of-type {\n",
       "        vertical-align: middle;\n",
       "    }\n",
       "\n",
       "    .dataframe tbody tr th {\n",
       "        vertical-align: top;\n",
       "    }\n",
       "\n",
       "    .dataframe thead th {\n",
       "        text-align: right;\n",
       "    }\n",
       "</style>\n",
       "<table border=\"1\" class=\"dataframe\">\n",
       "  <thead>\n",
       "    <tr style=\"text-align: right;\">\n",
       "      <th></th>\n",
       "      <th>ccna</th>\n",
       "      <th>kanji</th>\n",
       "      <th>team</th>\n",
       "      <th>uh</th>\n",
       "      <th>thts</th>\n",
       "      <th>stressfull</th>\n",
       "      <th>praps</th>\n",
       "      <th>nike</th>\n",
       "      <th>077xxx</th>\n",
       "      <th>ingredients</th>\n",
       "      <th>...</th>\n",
       "      <th>09111030116</th>\n",
       "      <th>valid12hrs</th>\n",
       "      <th>outreach</th>\n",
       "      <th>mittelschmertz</th>\n",
       "      <th>guoyang</th>\n",
       "      <th>fill</th>\n",
       "      <th>hari</th>\n",
       "      <th>somewhr</th>\n",
       "      <th>question</th>\n",
       "      <th>management</th>\n",
       "    </tr>\n",
       "  </thead>\n",
       "  <tbody>\n",
       "    <tr>\n",
       "      <th>0</th>\n",
       "      <td>0</td>\n",
       "      <td>0</td>\n",
       "      <td>0</td>\n",
       "      <td>0</td>\n",
       "      <td>0</td>\n",
       "      <td>0</td>\n",
       "      <td>0</td>\n",
       "      <td>0</td>\n",
       "      <td>0</td>\n",
       "      <td>0</td>\n",
       "      <td>...</td>\n",
       "      <td>0</td>\n",
       "      <td>0</td>\n",
       "      <td>0</td>\n",
       "      <td>0</td>\n",
       "      <td>0</td>\n",
       "      <td>0</td>\n",
       "      <td>0</td>\n",
       "      <td>0</td>\n",
       "      <td>0</td>\n",
       "      <td>0</td>\n",
       "    </tr>\n",
       "    <tr>\n",
       "      <th>1</th>\n",
       "      <td>0</td>\n",
       "      <td>0</td>\n",
       "      <td>0</td>\n",
       "      <td>0</td>\n",
       "      <td>0</td>\n",
       "      <td>0</td>\n",
       "      <td>0</td>\n",
       "      <td>0</td>\n",
       "      <td>0</td>\n",
       "      <td>0</td>\n",
       "      <td>...</td>\n",
       "      <td>0</td>\n",
       "      <td>0</td>\n",
       "      <td>0</td>\n",
       "      <td>0</td>\n",
       "      <td>0</td>\n",
       "      <td>0</td>\n",
       "      <td>0</td>\n",
       "      <td>0</td>\n",
       "      <td>0</td>\n",
       "      <td>0</td>\n",
       "    </tr>\n",
       "    <tr>\n",
       "      <th>2</th>\n",
       "      <td>0</td>\n",
       "      <td>0</td>\n",
       "      <td>0</td>\n",
       "      <td>0</td>\n",
       "      <td>0</td>\n",
       "      <td>0</td>\n",
       "      <td>0</td>\n",
       "      <td>0</td>\n",
       "      <td>0</td>\n",
       "      <td>0</td>\n",
       "      <td>...</td>\n",
       "      <td>0</td>\n",
       "      <td>0</td>\n",
       "      <td>0</td>\n",
       "      <td>0</td>\n",
       "      <td>0</td>\n",
       "      <td>0</td>\n",
       "      <td>0</td>\n",
       "      <td>0</td>\n",
       "      <td>1</td>\n",
       "      <td>0</td>\n",
       "    </tr>\n",
       "    <tr>\n",
       "      <th>3</th>\n",
       "      <td>0</td>\n",
       "      <td>0</td>\n",
       "      <td>0</td>\n",
       "      <td>0</td>\n",
       "      <td>0</td>\n",
       "      <td>0</td>\n",
       "      <td>0</td>\n",
       "      <td>0</td>\n",
       "      <td>0</td>\n",
       "      <td>0</td>\n",
       "      <td>...</td>\n",
       "      <td>0</td>\n",
       "      <td>0</td>\n",
       "      <td>0</td>\n",
       "      <td>0</td>\n",
       "      <td>0</td>\n",
       "      <td>0</td>\n",
       "      <td>0</td>\n",
       "      <td>0</td>\n",
       "      <td>0</td>\n",
       "      <td>0</td>\n",
       "    </tr>\n",
       "    <tr>\n",
       "      <th>4</th>\n",
       "      <td>0</td>\n",
       "      <td>0</td>\n",
       "      <td>0</td>\n",
       "      <td>0</td>\n",
       "      <td>0</td>\n",
       "      <td>0</td>\n",
       "      <td>0</td>\n",
       "      <td>0</td>\n",
       "      <td>0</td>\n",
       "      <td>0</td>\n",
       "      <td>...</td>\n",
       "      <td>0</td>\n",
       "      <td>0</td>\n",
       "      <td>0</td>\n",
       "      <td>0</td>\n",
       "      <td>0</td>\n",
       "      <td>0</td>\n",
       "      <td>0</td>\n",
       "      <td>0</td>\n",
       "      <td>0</td>\n",
       "      <td>0</td>\n",
       "    </tr>\n",
       "    <tr>\n",
       "      <th>...</th>\n",
       "      <td>...</td>\n",
       "      <td>...</td>\n",
       "      <td>...</td>\n",
       "      <td>...</td>\n",
       "      <td>...</td>\n",
       "      <td>...</td>\n",
       "      <td>...</td>\n",
       "      <td>...</td>\n",
       "      <td>...</td>\n",
       "      <td>...</td>\n",
       "      <td>...</td>\n",
       "      <td>...</td>\n",
       "      <td>...</td>\n",
       "      <td>...</td>\n",
       "      <td>...</td>\n",
       "      <td>...</td>\n",
       "      <td>...</td>\n",
       "      <td>...</td>\n",
       "      <td>...</td>\n",
       "      <td>...</td>\n",
       "      <td>...</td>\n",
       "    </tr>\n",
       "    <tr>\n",
       "      <th>5567</th>\n",
       "      <td>0</td>\n",
       "      <td>0</td>\n",
       "      <td>0</td>\n",
       "      <td>0</td>\n",
       "      <td>0</td>\n",
       "      <td>0</td>\n",
       "      <td>0</td>\n",
       "      <td>0</td>\n",
       "      <td>0</td>\n",
       "      <td>0</td>\n",
       "      <td>...</td>\n",
       "      <td>0</td>\n",
       "      <td>0</td>\n",
       "      <td>0</td>\n",
       "      <td>0</td>\n",
       "      <td>0</td>\n",
       "      <td>0</td>\n",
       "      <td>0</td>\n",
       "      <td>0</td>\n",
       "      <td>0</td>\n",
       "      <td>0</td>\n",
       "    </tr>\n",
       "    <tr>\n",
       "      <th>5568</th>\n",
       "      <td>0</td>\n",
       "      <td>0</td>\n",
       "      <td>0</td>\n",
       "      <td>0</td>\n",
       "      <td>0</td>\n",
       "      <td>0</td>\n",
       "      <td>0</td>\n",
       "      <td>0</td>\n",
       "      <td>0</td>\n",
       "      <td>0</td>\n",
       "      <td>...</td>\n",
       "      <td>0</td>\n",
       "      <td>0</td>\n",
       "      <td>0</td>\n",
       "      <td>0</td>\n",
       "      <td>0</td>\n",
       "      <td>0</td>\n",
       "      <td>0</td>\n",
       "      <td>0</td>\n",
       "      <td>0</td>\n",
       "      <td>0</td>\n",
       "    </tr>\n",
       "    <tr>\n",
       "      <th>5569</th>\n",
       "      <td>0</td>\n",
       "      <td>0</td>\n",
       "      <td>0</td>\n",
       "      <td>0</td>\n",
       "      <td>0</td>\n",
       "      <td>0</td>\n",
       "      <td>0</td>\n",
       "      <td>0</td>\n",
       "      <td>0</td>\n",
       "      <td>0</td>\n",
       "      <td>...</td>\n",
       "      <td>0</td>\n",
       "      <td>0</td>\n",
       "      <td>0</td>\n",
       "      <td>0</td>\n",
       "      <td>0</td>\n",
       "      <td>0</td>\n",
       "      <td>0</td>\n",
       "      <td>0</td>\n",
       "      <td>0</td>\n",
       "      <td>0</td>\n",
       "    </tr>\n",
       "    <tr>\n",
       "      <th>5570</th>\n",
       "      <td>0</td>\n",
       "      <td>0</td>\n",
       "      <td>0</td>\n",
       "      <td>0</td>\n",
       "      <td>0</td>\n",
       "      <td>0</td>\n",
       "      <td>0</td>\n",
       "      <td>0</td>\n",
       "      <td>0</td>\n",
       "      <td>0</td>\n",
       "      <td>...</td>\n",
       "      <td>0</td>\n",
       "      <td>0</td>\n",
       "      <td>0</td>\n",
       "      <td>0</td>\n",
       "      <td>0</td>\n",
       "      <td>0</td>\n",
       "      <td>0</td>\n",
       "      <td>0</td>\n",
       "      <td>0</td>\n",
       "      <td>0</td>\n",
       "    </tr>\n",
       "    <tr>\n",
       "      <th>5571</th>\n",
       "      <td>0</td>\n",
       "      <td>0</td>\n",
       "      <td>0</td>\n",
       "      <td>0</td>\n",
       "      <td>0</td>\n",
       "      <td>0</td>\n",
       "      <td>0</td>\n",
       "      <td>0</td>\n",
       "      <td>0</td>\n",
       "      <td>0</td>\n",
       "      <td>...</td>\n",
       "      <td>0</td>\n",
       "      <td>0</td>\n",
       "      <td>0</td>\n",
       "      <td>0</td>\n",
       "      <td>0</td>\n",
       "      <td>0</td>\n",
       "      <td>0</td>\n",
       "      <td>0</td>\n",
       "      <td>0</td>\n",
       "      <td>0</td>\n",
       "    </tr>\n",
       "  </tbody>\n",
       "</table>\n",
       "<p>5572 rows × 7644 columns</p>\n",
       "</div>"
      ],
      "text/plain": [
       "      ccna  kanji  team  uh  thts  stressfull  praps  nike  077xxx  \\\n",
       "0        0      0     0   0     0           0      0     0       0   \n",
       "1        0      0     0   0     0           0      0     0       0   \n",
       "2        0      0     0   0     0           0      0     0       0   \n",
       "3        0      0     0   0     0           0      0     0       0   \n",
       "4        0      0     0   0     0           0      0     0       0   \n",
       "...    ...    ...   ...  ..   ...         ...    ...   ...     ...   \n",
       "5567     0      0     0   0     0           0      0     0       0   \n",
       "5568     0      0     0   0     0           0      0     0       0   \n",
       "5569     0      0     0   0     0           0      0     0       0   \n",
       "5570     0      0     0   0     0           0      0     0       0   \n",
       "5571     0      0     0   0     0           0      0     0       0   \n",
       "\n",
       "      ingredients  ...  09111030116  valid12hrs  outreach  mittelschmertz  \\\n",
       "0               0  ...            0           0         0               0   \n",
       "1               0  ...            0           0         0               0   \n",
       "2               0  ...            0           0         0               0   \n",
       "3               0  ...            0           0         0               0   \n",
       "4               0  ...            0           0         0               0   \n",
       "...           ...  ...          ...         ...       ...             ...   \n",
       "5567            0  ...            0           0         0               0   \n",
       "5568            0  ...            0           0         0               0   \n",
       "5569            0  ...            0           0         0               0   \n",
       "5570            0  ...            0           0         0               0   \n",
       "5571            0  ...            0           0         0               0   \n",
       "\n",
       "      guoyang  fill  hari  somewhr  question  management  \n",
       "0           0     0     0        0         0           0  \n",
       "1           0     0     0        0         0           0  \n",
       "2           0     0     0        0         1           0  \n",
       "3           0     0     0        0         0           0  \n",
       "4           0     0     0        0         0           0  \n",
       "...       ...   ...   ...      ...       ...         ...  \n",
       "5567        0     0     0        0         0           0  \n",
       "5568        0     0     0        0         0           0  \n",
       "5569        0     0     0        0         0           0  \n",
       "5570        0     0     0        0         0           0  \n",
       "5571        0     0     0        0         0           0  \n",
       "\n",
       "[5572 rows x 7644 columns]"
      ]
     },
     "execution_count": 55,
     "metadata": {},
     "output_type": "execute_result"
    }
   ],
   "source": [
    "# Initialize the dataframe\n",
    "X = np.zeros((len(df), bag_len), dtype = \"int64\")\n",
    "\n",
    "# For each sms consider its vectorized form\n",
    "for i in range(len(df)):\n",
    "    X[i] += df.iloc[i, 7]\n",
    "    \n",
    "# Create a pandas Dataframe    \n",
    "pd.DataFrame(X, columns = bag)"
   ]
  },
  {
   "cell_type": "code",
   "execution_count": 56,
   "id": "7cce5d0a-277c-4652-8bc8-af906f0f9b94",
   "metadata": {},
   "outputs": [],
   "source": [
    "# Create the classes encoding the 'spam' and 'ham' information\n",
    "'''\n",
    "If a sms is ham == 0;\n",
    "if a sms is spam == 1\n",
    "'''\n",
    "\n",
    "y = np.zeros(len(df), dtype=\"int64\")\n",
    "\n",
    "for i in range(len(df[\"Target\"])):\n",
    "    if df.iloc[i,0] == \"ham\":\n",
    "        y[i] = 0\n",
    "    else:\n",
    "        y[i] = 1"
   ]
  },
  {
   "cell_type": "markdown",
   "id": "a32ef21c",
   "metadata": {},
   "source": [
    "# Phase 3: Model Building"
   ]
  },
  {
   "cell_type": "code",
   "execution_count": 57,
   "id": "65b7b857-2e37-4163-b13d-a3d85b587315",
   "metadata": {},
   "outputs": [
    {
     "data": {
      "text/plain": [
       "((4457, 7644), (4457,))"
      ]
     },
     "execution_count": 57,
     "metadata": {},
     "output_type": "execute_result"
    }
   ],
   "source": [
    "# Splitting the test and training set\n",
    "# We decided to consider the 20% of the dataset as test set\n",
    "X_train, X_test, y_train, y_test = train_test_split(X, y, test_size = 0.2, random_state = 42)\n",
    "X_train.shape, y_train.shape"
   ]
  },
  {
   "cell_type": "code",
   "execution_count": 58,
   "id": "42c2b236-b015-46a1-b6fe-2ae2e84a2737",
   "metadata": {},
   "outputs": [
    {
     "name": "stdout",
     "output_type": "stream",
     "text": [
      "[[ 1.  1.  4. ...  1. 20.  1.]\n",
      " [ 0.  0.  2. ...  0.  9.  0.]]\n"
     ]
    }
   ],
   "source": [
    "N_yi = np.zeros((2, bag_len)) # feature count\n",
    "N_y = np.zeros((2)) # total count \n",
    "for i in range(len(y_train)):\n",
    "    # Compute N_y counting the features for each specific class\n",
    "    N_y[y_train[i]] += np.sum(X_train[i])\n",
    "    # Compute N_yi adding counting the specific words in each class\n",
    "    N_yi[y_train[i]] += (X_train[i])\n",
    "print(N_yi)"
   ]
  },
  {
   "cell_type": "markdown",
   "id": "234190e9-6d43-4125-9acc-24bdd1191379",
   "metadata": {},
   "source": [
    "## Prior "
   ]
  },
  {
   "cell_type": "code",
   "execution_count": 59,
   "id": "9affc920-e056-4ea4-9349-ca5f59cf1aae",
   "metadata": {},
   "outputs": [
    {
     "name": "stdout",
     "output_type": "stream",
     "text": [
      "[0.8660534 0.1339466]\n"
     ]
    }
   ],
   "source": [
    "P = np.zeros(2)\n",
    "classes = np.unique(y_train)\n",
    "\n",
    "# Implement Prior Probability P(A)\n",
    "for j in classes:\n",
    "    P[j] = np.count_nonzero(y_train == j)/(len(y_train))\n",
    "    \n",
    "print(P)"
   ]
  },
  {
   "cell_type": "markdown",
   "id": "486738ca-afe8-4fa2-bc46-10673628e38e",
   "metadata": {},
   "source": [
    "## Likelihood"
   ]
  },
  {
   "cell_type": "code",
   "execution_count": 60,
   "id": "69a5edbc-9cc8-4bd4-8611-82ed0b45f828",
   "metadata": {},
   "outputs": [],
   "source": [
    "# The likelihood of each word to be in a ham or in a spam message\n",
    "likelihood_matrix_words = np.zeros((2,bag_len))\n",
    "\n",
    "for i in range(bag_len):\n",
    "    for j in range(2):\n",
    "        # NOTE: We implemented Laplace Smoothing\n",
    "        likelihood_matrix_words[j][i]=float((N_yi[j][i] + 1)/(N_y[j] + bag_len))\n",
    "        \n",
    "likelihood_matrix_words = pd.DataFrame(likelihood_matrix_words, columns = bag)"
   ]
  },
  {
   "cell_type": "code",
   "execution_count": 61,
   "id": "8f2883c0-cbe7-4bb7-a2b0-5cee07a07480",
   "metadata": {},
   "outputs": [
    {
     "data": {
      "text/html": [
       "<div>\n",
       "<style scoped>\n",
       "    .dataframe tbody tr th:only-of-type {\n",
       "        vertical-align: middle;\n",
       "    }\n",
       "\n",
       "    .dataframe tbody tr th {\n",
       "        vertical-align: top;\n",
       "    }\n",
       "\n",
       "    .dataframe thead th {\n",
       "        text-align: right;\n",
       "    }\n",
       "</style>\n",
       "<table border=\"1\" class=\"dataframe\">\n",
       "  <thead>\n",
       "    <tr style=\"text-align: right;\">\n",
       "      <th></th>\n",
       "      <th>ccna</th>\n",
       "      <th>kanji</th>\n",
       "      <th>team</th>\n",
       "      <th>uh</th>\n",
       "      <th>thts</th>\n",
       "      <th>stressfull</th>\n",
       "      <th>praps</th>\n",
       "      <th>nike</th>\n",
       "      <th>077xxx</th>\n",
       "      <th>ingredients</th>\n",
       "      <th>...</th>\n",
       "      <th>09111030116</th>\n",
       "      <th>valid12hrs</th>\n",
       "      <th>outreach</th>\n",
       "      <th>mittelschmertz</th>\n",
       "      <th>guoyang</th>\n",
       "      <th>fill</th>\n",
       "      <th>hari</th>\n",
       "      <th>somewhr</th>\n",
       "      <th>question</th>\n",
       "      <th>management</th>\n",
       "    </tr>\n",
       "  </thead>\n",
       "  <tbody>\n",
       "    <tr>\n",
       "      <th>0</th>\n",
       "      <td>0.000054</td>\n",
       "      <td>0.000054</td>\n",
       "      <td>0.000134</td>\n",
       "      <td>0.000054</td>\n",
       "      <td>0.000161</td>\n",
       "      <td>0.000054</td>\n",
       "      <td>0.000054</td>\n",
       "      <td>0.000054</td>\n",
       "      <td>0.000027</td>\n",
       "      <td>0.000054</td>\n",
       "      <td>...</td>\n",
       "      <td>0.000027</td>\n",
       "      <td>0.000027</td>\n",
       "      <td>0.000054</td>\n",
       "      <td>0.000054</td>\n",
       "      <td>0.000027</td>\n",
       "      <td>0.000241</td>\n",
       "      <td>0.000054</td>\n",
       "      <td>0.000054</td>\n",
       "      <td>0.000562</td>\n",
       "      <td>0.000054</td>\n",
       "    </tr>\n",
       "    <tr>\n",
       "      <th>1</th>\n",
       "      <td>0.000056</td>\n",
       "      <td>0.000056</td>\n",
       "      <td>0.000167</td>\n",
       "      <td>0.000056</td>\n",
       "      <td>0.000056</td>\n",
       "      <td>0.000056</td>\n",
       "      <td>0.000056</td>\n",
       "      <td>0.000056</td>\n",
       "      <td>0.000111</td>\n",
       "      <td>0.000056</td>\n",
       "      <td>...</td>\n",
       "      <td>0.000111</td>\n",
       "      <td>0.000167</td>\n",
       "      <td>0.000056</td>\n",
       "      <td>0.000056</td>\n",
       "      <td>0.000056</td>\n",
       "      <td>0.000056</td>\n",
       "      <td>0.000056</td>\n",
       "      <td>0.000056</td>\n",
       "      <td>0.000557</td>\n",
       "      <td>0.000056</td>\n",
       "    </tr>\n",
       "  </tbody>\n",
       "</table>\n",
       "<p>2 rows × 7644 columns</p>\n",
       "</div>"
      ],
      "text/plain": [
       "       ccna     kanji      team        uh      thts  stressfull     praps  \\\n",
       "0  0.000054  0.000054  0.000134  0.000054  0.000161    0.000054  0.000054   \n",
       "1  0.000056  0.000056  0.000167  0.000056  0.000056    0.000056  0.000056   \n",
       "\n",
       "       nike    077xxx  ingredients  ...  09111030116  valid12hrs  outreach  \\\n",
       "0  0.000054  0.000027     0.000054  ...     0.000027    0.000027  0.000054   \n",
       "1  0.000056  0.000111     0.000056  ...     0.000111    0.000167  0.000056   \n",
       "\n",
       "   mittelschmertz   guoyang      fill      hari   somewhr  question  \\\n",
       "0        0.000054  0.000027  0.000241  0.000054  0.000054  0.000562   \n",
       "1        0.000056  0.000056  0.000056  0.000056  0.000056  0.000557   \n",
       "\n",
       "   management  \n",
       "0    0.000054  \n",
       "1    0.000056  \n",
       "\n",
       "[2 rows x 7644 columns]"
      ]
     },
     "execution_count": 61,
     "metadata": {},
     "output_type": "execute_result"
    }
   ],
   "source": [
    "likelihood_matrix_words"
   ]
  },
  {
   "cell_type": "code",
   "execution_count": 66,
   "id": "323e73e2-4f0a-47a3-927c-04df2e7da4eb",
   "metadata": {
    "scrolled": true,
    "tags": []
   },
   "outputs": [],
   "source": [
    "# Likelihood matrix for each sms\n",
    "likelihood_matrix = np.zeros((len(X_train), 2))\n",
    "\n",
    "for i in range(len(X_train)):\n",
    "    tmp_spam = []\n",
    "    tmp_ham = []\n",
    "    sms = X_train[i] #list of words\n",
    "    \n",
    "    # NOTE: In order to have numerical stability, we opted for using the logarithms\n",
    "    # This way we convert all the products into sums\n",
    "    for index in range(len(sms)): #for each word in sms\n",
    "        if sms[index]!=0:\n",
    "            weight_ham, weight_spam = likelihood_matrix_words.iloc[:, index]\n",
    "            tmp_spam.append(math.log(weight_spam)**sms[index])\n",
    "            tmp_ham.append(math.log(weight_ham)**sms[index])\n",
    "            \n",
    "    likelihood_matrix[i][0] = float(np.sum(tmp_ham))\n",
    "    likelihood_matrix[i][1] = float(np.sum(tmp_spam))"
   ]
  },
  {
   "cell_type": "code",
   "execution_count": 67,
   "id": "761cd371-81d9-40ff-9f77-4ee4077ceb5d",
   "metadata": {},
   "outputs": [],
   "source": [
    "likelihood_matrix_df = pd.DataFrame(likelihood_matrix, columns = [\"ham\", \"spam\"])"
   ]
  },
  {
   "cell_type": "code",
   "execution_count": 68,
   "id": "10c0d258-c6b0-429d-a213-286362e7eb21",
   "metadata": {},
   "outputs": [
    {
     "data": {
      "text/html": [
       "<div>\n",
       "<style scoped>\n",
       "    .dataframe tbody tr th:only-of-type {\n",
       "        vertical-align: middle;\n",
       "    }\n",
       "\n",
       "    .dataframe tbody tr th {\n",
       "        vertical-align: top;\n",
       "    }\n",
       "\n",
       "    .dataframe thead th {\n",
       "        text-align: right;\n",
       "    }\n",
       "</style>\n",
       "<table border=\"1\" class=\"dataframe\">\n",
       "  <thead>\n",
       "    <tr style=\"text-align: right;\">\n",
       "      <th></th>\n",
       "      <th>ham</th>\n",
       "      <th>spam</th>\n",
       "    </tr>\n",
       "  </thead>\n",
       "  <tbody>\n",
       "    <tr>\n",
       "      <th>0</th>\n",
       "      <td>-54.434155</td>\n",
       "      <td>-62.207409</td>\n",
       "    </tr>\n",
       "    <tr>\n",
       "      <th>1</th>\n",
       "      <td>-137.468846</td>\n",
       "      <td>-123.164313</td>\n",
       "    </tr>\n",
       "    <tr>\n",
       "      <th>2</th>\n",
       "      <td>-47.935712</td>\n",
       "      <td>-50.348928</td>\n",
       "    </tr>\n",
       "    <tr>\n",
       "      <th>3</th>\n",
       "      <td>-46.803153</td>\n",
       "      <td>-56.129671</td>\n",
       "    </tr>\n",
       "    <tr>\n",
       "      <th>4</th>\n",
       "      <td>-180.748513</td>\n",
       "      <td>-142.225845</td>\n",
       "    </tr>\n",
       "    <tr>\n",
       "      <th>...</th>\n",
       "      <td>...</td>\n",
       "      <td>...</td>\n",
       "    </tr>\n",
       "    <tr>\n",
       "      <th>4452</th>\n",
       "      <td>-53.888084</td>\n",
       "      <td>-66.716916</td>\n",
       "    </tr>\n",
       "    <tr>\n",
       "      <th>4453</th>\n",
       "      <td>-16.839779</td>\n",
       "      <td>-22.429726</td>\n",
       "    </tr>\n",
       "    <tr>\n",
       "      <th>4454</th>\n",
       "      <td>-50.434432</td>\n",
       "      <td>-57.382434</td>\n",
       "    </tr>\n",
       "    <tr>\n",
       "      <th>4455</th>\n",
       "      <td>-29.822265</td>\n",
       "      <td>-35.846948</td>\n",
       "    </tr>\n",
       "    <tr>\n",
       "      <th>4456</th>\n",
       "      <td>-17.910907</td>\n",
       "      <td>-21.760722</td>\n",
       "    </tr>\n",
       "  </tbody>\n",
       "</table>\n",
       "<p>4457 rows × 2 columns</p>\n",
       "</div>"
      ],
      "text/plain": [
       "             ham        spam\n",
       "0     -54.434155  -62.207409\n",
       "1    -137.468846 -123.164313\n",
       "2     -47.935712  -50.348928\n",
       "3     -46.803153  -56.129671\n",
       "4    -180.748513 -142.225845\n",
       "...          ...         ...\n",
       "4452  -53.888084  -66.716916\n",
       "4453  -16.839779  -22.429726\n",
       "4454  -50.434432  -57.382434\n",
       "4455  -29.822265  -35.846948\n",
       "4456  -17.910907  -21.760722\n",
       "\n",
       "[4457 rows x 2 columns]"
      ]
     },
     "execution_count": 68,
     "metadata": {},
     "output_type": "execute_result"
    }
   ],
   "source": [
    "likelihood_matrix_df"
   ]
  },
  {
   "cell_type": "code",
   "execution_count": 69,
   "id": "8e2ec95c-3834-440a-993f-4dc4e4677bd8",
   "metadata": {},
   "outputs": [
    {
     "data": {
      "text/html": [
       "<div>\n",
       "<style scoped>\n",
       "    .dataframe tbody tr th:only-of-type {\n",
       "        vertical-align: middle;\n",
       "    }\n",
       "\n",
       "    .dataframe tbody tr th {\n",
       "        vertical-align: top;\n",
       "    }\n",
       "\n",
       "    .dataframe thead th {\n",
       "        text-align: right;\n",
       "    }\n",
       "</style>\n",
       "<table border=\"1\" class=\"dataframe\">\n",
       "  <thead>\n",
       "    <tr style=\"text-align: right;\">\n",
       "      <th></th>\n",
       "      <th>ham</th>\n",
       "      <th>spam</th>\n",
       "    </tr>\n",
       "  </thead>\n",
       "  <tbody>\n",
       "    <tr>\n",
       "      <th>0</th>\n",
       "      <td>-54.577964</td>\n",
       "      <td>-64.217723</td>\n",
       "    </tr>\n",
       "    <tr>\n",
       "      <th>1</th>\n",
       "      <td>-137.612654</td>\n",
       "      <td>-125.174627</td>\n",
       "    </tr>\n",
       "    <tr>\n",
       "      <th>2</th>\n",
       "      <td>-48.079520</td>\n",
       "      <td>-52.359242</td>\n",
       "    </tr>\n",
       "    <tr>\n",
       "      <th>3</th>\n",
       "      <td>-46.946962</td>\n",
       "      <td>-58.139986</td>\n",
       "    </tr>\n",
       "    <tr>\n",
       "      <th>4</th>\n",
       "      <td>-180.892322</td>\n",
       "      <td>-144.236159</td>\n",
       "    </tr>\n",
       "    <tr>\n",
       "      <th>...</th>\n",
       "      <td>...</td>\n",
       "      <td>...</td>\n",
       "    </tr>\n",
       "    <tr>\n",
       "      <th>4452</th>\n",
       "      <td>-54.031893</td>\n",
       "      <td>-68.727230</td>\n",
       "    </tr>\n",
       "    <tr>\n",
       "      <th>4453</th>\n",
       "      <td>-16.983588</td>\n",
       "      <td>-24.440040</td>\n",
       "    </tr>\n",
       "    <tr>\n",
       "      <th>4454</th>\n",
       "      <td>-50.578241</td>\n",
       "      <td>-59.392749</td>\n",
       "    </tr>\n",
       "    <tr>\n",
       "      <th>4455</th>\n",
       "      <td>-29.966074</td>\n",
       "      <td>-37.857262</td>\n",
       "    </tr>\n",
       "    <tr>\n",
       "      <th>4456</th>\n",
       "      <td>-18.054715</td>\n",
       "      <td>-23.771037</td>\n",
       "    </tr>\n",
       "  </tbody>\n",
       "</table>\n",
       "<p>4457 rows × 2 columns</p>\n",
       "</div>"
      ],
      "text/plain": [
       "             ham        spam\n",
       "0     -54.577964  -64.217723\n",
       "1    -137.612654 -125.174627\n",
       "2     -48.079520  -52.359242\n",
       "3     -46.946962  -58.139986\n",
       "4    -180.892322 -144.236159\n",
       "...          ...         ...\n",
       "4452  -54.031893  -68.727230\n",
       "4453  -16.983588  -24.440040\n",
       "4454  -50.578241  -59.392749\n",
       "4455  -29.966074  -37.857262\n",
       "4456  -18.054715  -23.771037\n",
       "\n",
       "[4457 rows x 2 columns]"
      ]
     },
     "execution_count": 69,
     "metadata": {},
     "output_type": "execute_result"
    }
   ],
   "source": [
    "# Add the log of the prior probabilities\n",
    "likelihood_final = np.zeros((len(X_train), 2))\n",
    "\n",
    "for i in range(len(X_train)):\n",
    "    for j in range(2):\n",
    "        likelihood_final[i][j] = likelihood_matrix[i][j] + math.log(P[j])\n",
    "\n",
    "likelihood_final = pd.DataFrame(likelihood_final, columns = [\"ham\", \"spam\"])\n",
    "likelihood_final"
   ]
  },
  {
   "cell_type": "code",
   "execution_count": 71,
   "id": "abae56c3",
   "metadata": {},
   "outputs": [],
   "source": [
    "prob_spam = abs(likelihood_final['spam']) / (abs(likelihood_final['spam']) + abs(likelihood_final['ham']))"
   ]
  },
  {
   "cell_type": "code",
   "execution_count": 72,
   "id": "84817d90",
   "metadata": {},
   "outputs": [
    {
     "data": {
      "text/plain": [
       "0       0.540573\n",
       "1       0.476334\n",
       "2       0.521305\n",
       "3       0.553256\n",
       "4       0.443628\n",
       "          ...   \n",
       "4452    0.559854\n",
       "4453    0.590002\n",
       "4454    0.540077\n",
       "4455    0.558175\n",
       "4456    0.568335\n",
       "Length: 4457, dtype: float64"
      ]
     },
     "execution_count": 72,
     "metadata": {},
     "output_type": "execute_result"
    }
   ],
   "source": [
    "prob_spam"
   ]
  },
  {
   "cell_type": "code",
   "execution_count": 73,
   "id": "3ca4567f-b7e3-4261-a713-7f946716f48c",
   "metadata": {},
   "outputs": [
    {
     "data": {
      "text/plain": [
       "0       0\n",
       "1       1\n",
       "2       0\n",
       "3       0\n",
       "4       1\n",
       "       ..\n",
       "4452    0\n",
       "4453    0\n",
       "4454    0\n",
       "4455    0\n",
       "4456    0\n",
       "Length: 4457, dtype: int64"
      ]
     },
     "execution_count": 73,
     "metadata": {},
     "output_type": "execute_result"
    }
   ],
   "source": [
    "# Take the max value between the two log-likelihoods to predict the label\n",
    "res = likelihood_final.idxmax(axis = 1)\n",
    "\n",
    "# Replace 'ham' with 0 and 'spam' with 1\n",
    "res = res.replace(\"ham\", 0)\n",
    "res = res.replace(\"spam\", 1)\n",
    "\n",
    "res"
   ]
  },
  {
   "cell_type": "code",
   "execution_count": 74,
   "id": "633acce2-04a6-4058-9368-ad93ac264310",
   "metadata": {
    "scrolled": true
   },
   "outputs": [
    {
     "data": {
      "text/plain": [
       "array([[3852,    8],\n",
       "       [  17,  580]], dtype=int64)"
      ]
     },
     "execution_count": 74,
     "metadata": {},
     "output_type": "execute_result"
    }
   ],
   "source": [
    "confusion_matrix(y_train, res)"
   ]
  },
  {
   "cell_type": "markdown",
   "id": "b57bc37d",
   "metadata": {},
   "source": [
    "###### x Simone: se vuoi vedere qualcosa per il threshold"
   ]
  },
  {
   "cell_type": "code",
   "execution_count": null,
   "id": "d8a57f5d",
   "metadata": {},
   "outputs": [],
   "source": [
    "fpr, tpr, threshold = roc_curve(y_train, 1 - likelihood_matrix['prob_spam'])"
   ]
  },
  {
   "cell_type": "code",
   "execution_count": null,
   "id": "89098f0e",
   "metadata": {},
   "outputs": [],
   "source": [
    "auc(fpr, tpr)"
   ]
  },
  {
   "cell_type": "code",
   "execution_count": null,
   "id": "49161b27",
   "metadata": {},
   "outputs": [],
   "source": []
  },
  {
   "cell_type": "code",
   "execution_count": null,
   "id": "0e6937c8",
   "metadata": {
    "scrolled": false
   },
   "outputs": [],
   "source": [
    "# plot the roc curve for the model\n",
    "plt.plot([0,1], [0,1], linestyle='--', label='No Skill')\n",
    "plt.plot(fpr, tpr, marker='.', label='Naive Bayes')\n",
    "# axis labels\n",
    "plt.xlabel('False Positive Rate')\n",
    "plt.ylabel('True Positive Rate')\n",
    "plt.legend()\n",
    "# show the plot\n",
    "plt.show()"
   ]
  },
  {
   "cell_type": "markdown",
   "id": "7ebb34e0",
   "metadata": {},
   "source": [
    "####"
   ]
  },
  {
   "cell_type": "markdown",
   "id": "13dde556",
   "metadata": {},
   "source": [
    "Now, consider X_test, repeat the same steps as before"
   ]
  },
  {
   "cell_type": "code",
   "execution_count": 75,
   "id": "9202ddf5",
   "metadata": {},
   "outputs": [],
   "source": [
    "likelihood_matrix_test = np.zeros((len(X_test), 2))\n",
    "\n",
    "for i in range(len(X_test)):\n",
    "    tmp_spam = []\n",
    "    tmp_ham = []\n",
    "    sms = X_test[i] #list of sms in X_TEST\n",
    "    for index in range(len(sms)): #for each word in sms\n",
    "        if sms[index] != 0:           \n",
    "                weight_ham, weight_spam = likelihood_matrix_words.iloc[:, index]\n",
    "                tmp_spam.append(math.log(weight_spam)**sms[index])\n",
    "                tmp_ham.append(math.log(weight_ham)**sms[index])\n",
    "    likelihood_matrix_test[i][0] = float(np.sum(tmp_ham))\n",
    "    likelihood_matrix_test[i][1] = float(np.sum(tmp_spam))"
   ]
  },
  {
   "cell_type": "code",
   "execution_count": 76,
   "id": "f35c4ccd",
   "metadata": {},
   "outputs": [],
   "source": [
    "likelihood_matrix_test_df = pd.DataFrame(likelihood_matrix_test, columns = [\"ham\", \"spam\"])"
   ]
  },
  {
   "cell_type": "code",
   "execution_count": 77,
   "id": "9fef81eb",
   "metadata": {},
   "outputs": [
    {
     "data": {
      "text/html": [
       "<div>\n",
       "<style scoped>\n",
       "    .dataframe tbody tr th:only-of-type {\n",
       "        vertical-align: middle;\n",
       "    }\n",
       "\n",
       "    .dataframe tbody tr th {\n",
       "        vertical-align: top;\n",
       "    }\n",
       "\n",
       "    .dataframe thead th {\n",
       "        text-align: right;\n",
       "    }\n",
       "</style>\n",
       "<table border=\"1\" class=\"dataframe\">\n",
       "  <thead>\n",
       "    <tr style=\"text-align: right;\">\n",
       "      <th></th>\n",
       "      <th>ham</th>\n",
       "      <th>spam</th>\n",
       "    </tr>\n",
       "  </thead>\n",
       "  <tbody>\n",
       "    <tr>\n",
       "      <th>0</th>\n",
       "      <td>-170.514090</td>\n",
       "      <td>-175.519219</td>\n",
       "    </tr>\n",
       "    <tr>\n",
       "      <th>1</th>\n",
       "      <td>-151.965611</td>\n",
       "      <td>-156.268451</td>\n",
       "    </tr>\n",
       "    <tr>\n",
       "      <th>2</th>\n",
       "      <td>-82.402432</td>\n",
       "      <td>-73.924771</td>\n",
       "    </tr>\n",
       "    <tr>\n",
       "      <th>3</th>\n",
       "      <td>-55.338686</td>\n",
       "      <td>-70.475702</td>\n",
       "    </tr>\n",
       "    <tr>\n",
       "      <th>4</th>\n",
       "      <td>-193.566763</td>\n",
       "      <td>-142.435834</td>\n",
       "    </tr>\n",
       "    <tr>\n",
       "      <th>...</th>\n",
       "      <td>...</td>\n",
       "      <td>...</td>\n",
       "    </tr>\n",
       "    <tr>\n",
       "      <th>1110</th>\n",
       "      <td>-101.494611</td>\n",
       "      <td>-124.218596</td>\n",
       "    </tr>\n",
       "    <tr>\n",
       "      <th>1111</th>\n",
       "      <td>-69.087629</td>\n",
       "      <td>-76.561957</td>\n",
       "    </tr>\n",
       "    <tr>\n",
       "      <th>1112</th>\n",
       "      <td>-42.615097</td>\n",
       "      <td>-50.519280</td>\n",
       "    </tr>\n",
       "    <tr>\n",
       "      <th>1113</th>\n",
       "      <td>-13.320519</td>\n",
       "      <td>-16.500024</td>\n",
       "    </tr>\n",
       "    <tr>\n",
       "      <th>1114</th>\n",
       "      <td>-110.884965</td>\n",
       "      <td>-93.114396</td>\n",
       "    </tr>\n",
       "  </tbody>\n",
       "</table>\n",
       "<p>1115 rows × 2 columns</p>\n",
       "</div>"
      ],
      "text/plain": [
       "             ham        spam\n",
       "0    -170.514090 -175.519219\n",
       "1    -151.965611 -156.268451\n",
       "2     -82.402432  -73.924771\n",
       "3     -55.338686  -70.475702\n",
       "4    -193.566763 -142.435834\n",
       "...          ...         ...\n",
       "1110 -101.494611 -124.218596\n",
       "1111  -69.087629  -76.561957\n",
       "1112  -42.615097  -50.519280\n",
       "1113  -13.320519  -16.500024\n",
       "1114 -110.884965  -93.114396\n",
       "\n",
       "[1115 rows x 2 columns]"
      ]
     },
     "execution_count": 77,
     "metadata": {},
     "output_type": "execute_result"
    }
   ],
   "source": [
    "# Add the log of the prior probabilities\n",
    "likelihood_final_test = np.zeros((len(X_test), 2))\n",
    "\n",
    "for i in range(len(X_test)):\n",
    "    for j in range(2):\n",
    "        likelihood_final_test[i][j] = likelihood_matrix_test[i][j] + math.log(P[j])\n",
    "\n",
    "likelihood_final_test = pd.DataFrame(likelihood_final_test, columns = [\"ham\", \"spam\"])\n",
    "likelihood_final_test"
   ]
  },
  {
   "cell_type": "code",
   "execution_count": 79,
   "id": "3cc6e191",
   "metadata": {},
   "outputs": [],
   "source": [
    "prob_spam_test = abs(likelihood_final_test['spam']) / (abs(likelihood_final_test['spam']) + abs(likelihood_final_test['ham']))"
   ]
  },
  {
   "cell_type": "code",
   "execution_count": 80,
   "id": "8fda1102",
   "metadata": {},
   "outputs": [
    {
     "data": {
      "text/plain": [
       "0       0.507232\n",
       "1       0.506980\n",
       "2       0.472885\n",
       "3       0.560156\n",
       "4       0.423913\n",
       "          ...   \n",
       "1110    0.550338\n",
       "1111    0.525659\n",
       "1112    0.542434\n",
       "1113    0.553311\n",
       "1114    0.456445\n",
       "Length: 1115, dtype: float64"
      ]
     },
     "execution_count": 80,
     "metadata": {},
     "output_type": "execute_result"
    }
   ],
   "source": [
    "prob_spam_test"
   ]
  },
  {
   "cell_type": "code",
   "execution_count": 83,
   "id": "9dbd8a97",
   "metadata": {},
   "outputs": [
    {
     "data": {
      "text/plain": [
       "0       0\n",
       "1       0\n",
       "2       1\n",
       "3       0\n",
       "4       1\n",
       "       ..\n",
       "1110    0\n",
       "1111    0\n",
       "1112    0\n",
       "1113    0\n",
       "1114    1\n",
       "Length: 1115, dtype: int64"
      ]
     },
     "execution_count": 83,
     "metadata": {},
     "output_type": "execute_result"
    }
   ],
   "source": [
    "# Take the max value between the two log-likelihoods to predict the label\n",
    "res_test = likelihood_final_test.idxmax(axis = 1)\n",
    "\n",
    "# Replace 'ham' with 0 and 'spam' with 1\n",
    "res_test = res_test.replace(\"ham\", 0)\n",
    "res_test = res_test.replace(\"spam\", 1)\n",
    "\n",
    "res_test"
   ]
  },
  {
   "cell_type": "code",
   "execution_count": 92,
   "id": "28bae580",
   "metadata": {
    "scrolled": true
   },
   "outputs": [
    {
     "data": {
      "text/plain": [
       "array([[955,  10],\n",
       "       [ 12, 138]], dtype=int64)"
      ]
     },
     "execution_count": 92,
     "metadata": {},
     "output_type": "execute_result"
    }
   ],
   "source": [
    "cm = confusion_matrix(y_test, res_test)\n",
    "cm"
   ]
  },
  {
   "cell_type": "code",
   "execution_count": 137,
   "id": "63b0e886",
   "metadata": {},
   "outputs": [
    {
     "data": {
      "image/png": "[encoded data removed]",
      "text/plain": [
       "<Figure size 432x288 with 2 Axes>"
      ]
     },
     "metadata": {},
     "output_type": "display_data"
    }
   ],
   "source": [
    "sns.set_theme(style=\"white\")\n",
    "disp = ConfusionMatrixDisplay(cm)\n",
    "disp.plot()\n",
    "plt.show()"
   ]
  },
  {
   "cell_type": "code",
   "execution_count": 98,
   "id": "c850c509",
   "metadata": {},
   "outputs": [
    {
     "name": "stdout",
     "output_type": "stream",
     "text": [
      "              precision    recall  f1-score   support\n",
      "\n",
      "           0       0.99      0.99      0.99       965\n",
      "           1       0.93      0.92      0.93       150\n",
      "\n",
      "    accuracy                           0.98      1115\n",
      "   macro avg       0.96      0.95      0.96      1115\n",
      "weighted avg       0.98      0.98      0.98      1115\n",
      "\n"
     ]
    }
   ],
   "source": [
    "print(classification_report(y_test, res_test))"
   ]
  },
  {
   "cell_type": "markdown",
   "id": "d5e1afa2",
   "metadata": {},
   "source": [
    "#### x Simone: qui per il threshold"
   ]
  },
  {
   "cell_type": "code",
   "execution_count": null,
   "id": "fc570008",
   "metadata": {},
   "outputs": [],
   "source": [
    "fpr, tpr, threshold = roc_curve(y_test, res)"
   ]
  },
  {
   "cell_type": "code",
   "execution_count": null,
   "id": "d6856004",
   "metadata": {},
   "outputs": [],
   "source": [
    "# plot the roc curve for the model\n",
    "plt.plot([0,1], [0,1], linestyle='--', label='No Skill')\n",
    "plt.plot(fpr, tpr, marker='.', label='Naive Bayes')\n",
    "# axis labels\n",
    "plt.xlabel('False Positive Rate')\n",
    "plt.ylabel('True Positive Rate')\n",
    "plt.legend()\n",
    "# show the plot\n",
    "plt.show()"
   ]
  },
  {
   "cell_type": "markdown",
   "id": "0837efb6",
   "metadata": {},
   "source": [
    "# Phase 4: Compare with other classifiers"
   ]
  },
  {
   "cell_type": "markdown",
   "id": "c09ed8b0",
   "metadata": {},
   "source": [
    "Including **MultinomialNB** from *sklearn*."
   ]
  },
  {
   "cell_type": "code",
   "execution_count": 101,
   "id": "5713970c",
   "metadata": {},
   "outputs": [],
   "source": [
    "#Testing on the following classifiers\n",
    "classifiers = [MultinomialNB(),\n",
    "               KNeighborsClassifier(), \n",
    "               SVC(),\n",
    "              LogisticRegression()]\n",
    "\n",
    "for cls in classifiers:\n",
    "    cls.fit(X_train, y_train)\n",
    "\n",
    "# Dictionary of pipelines and model types for ease of reference\n",
    "class_dict = {0: \"NaiveBayes\", 1: \"KNeighbours\", 2: \"SVC\", 3: \"LogisticRegression\"}"
   ]
  },
  {
   "cell_type": "code",
   "execution_count": 104,
   "id": "a105cb74",
   "metadata": {},
   "outputs": [
    {
     "name": "stdout",
     "output_type": "stream",
     "text": [
      "NaiveBayes: 0.984069 \n",
      "KNeighbours: 0.904644 \n",
      "SVC: 0.979132 \n",
      "LogisticRegression: 0.982498 \n"
     ]
    }
   ],
   "source": [
    "# Cossvalidation \n",
    "for i, model in enumerate(classifiers):\n",
    "    cv_score = cross_val_score(model, X_train, y_train, scoring = \"accuracy\")\n",
    "    print(\"%s: %f \" % (class_dict[i], cv_score.mean()))"
   ]
  },
  {
   "cell_type": "markdown",
   "id": "a8e20945",
   "metadata": {},
   "source": [
    "## Model evaluation"
   ]
  },
  {
   "cell_type": "code",
   "execution_count": 111,
   "id": "7d141493",
   "metadata": {},
   "outputs": [],
   "source": [
    "# Model Evaluation\n",
    "# creating lists of varios scores\n",
    "precision =[]\n",
    "recall =[]\n",
    "f1_score = []\n",
    "trainset_accuracy = []\n",
    "testset_accuracy = []\n",
    "\n",
    "for i in classifiers:\n",
    "    pred_train = i.predict(X_train)\n",
    "    pred_test = i.predict(X_test)\n",
    "    prec = precision_score(y_test, pred_test)\n",
    "    recal = recall_score(y_test, pred_test)\n",
    "    #f1_s = f1_score(y_test, pred_test)\n",
    "    train_accuracy = model.score(X_train, y_train)\n",
    "    test_accuracy = model.score(X_test, y_test)\n",
    "  \n",
    "    #Appending scores\n",
    "    precision.append(prec)\n",
    "    recall.append(recal)\n",
    "    #f1_score.append(f1_s)\n",
    "    trainset_accuracy.append(train_accuracy)\n",
    "    testset_accuracy.append(test_accuracy)"
   ]
  },
  {
   "cell_type": "code",
   "execution_count": 112,
   "id": "eadf234c",
   "metadata": {},
   "outputs": [],
   "source": [
    "# initialise data of lists.\n",
    "data = {'Precision':precision,\n",
    "'Recall':recall,\n",
    "#'F1score':f1_score,\n",
    "'Accuracy on Testset':testset_accuracy,\n",
    "'Accuracy on Trainset':trainset_accuracy}\n",
    "# Creates pandas DataFrame.\n",
    "Results = pd.DataFrame(data, index =[\"NaiveBayes\", \"KNeighbours\", \"SVC\", \"LogisticRegression\"])"
   ]
  },
  {
   "cell_type": "code",
   "execution_count": 115,
   "id": "2061808e",
   "metadata": {},
   "outputs": [
    {
     "data": {
      "text/html": [
       "<style  type=\"text/css\" >\n",
       "#T_f06ac_row0_col0,#T_f06ac_row0_col2,#T_f06ac_row0_col3,#T_f06ac_row1_col1,#T_f06ac_row1_col2,#T_f06ac_row1_col3,#T_f06ac_row2_col2,#T_f06ac_row2_col3,#T_f06ac_row3_col2,#T_f06ac_row3_col3{\n",
       "            background-color:  #e2ccff;\n",
       "            color:  #000000;\n",
       "        }#T_f06ac_row0_col1,#T_f06ac_row1_col0,#T_f06ac_row2_col0,#T_f06ac_row2_col1,#T_f06ac_row3_col0,#T_f06ac_row3_col1{\n",
       "            background-color:  #e598d8;\n",
       "            color:  #000000;\n",
       "        }</style><table id=\"T_f06ac_\" ><thead>    <tr>        <th class=\"blank level0\" ></th>        <th class=\"col_heading level0 col0\" >Precision</th>        <th class=\"col_heading level0 col1\" >Recall</th>        <th class=\"col_heading level0 col2\" >Accuracy on Testset</th>        <th class=\"col_heading level0 col3\" >Accuracy on Trainset</th>    </tr></thead><tbody>\n",
       "                <tr>\n",
       "                        <th id=\"T_f06ac_level0_row0\" class=\"row_heading level0 row0\" >NaiveBayes</th>\n",
       "                        <td id=\"T_f06ac_row0_col0\" class=\"data row0 col0\" >0.932432</td>\n",
       "                        <td id=\"T_f06ac_row0_col1\" class=\"data row0 col1\" >0.920000</td>\n",
       "                        <td id=\"T_f06ac_row0_col2\" class=\"data row0 col2\" >0.975785</td>\n",
       "                        <td id=\"T_f06ac_row0_col3\" class=\"data row0 col3\" >0.997083</td>\n",
       "            </tr>\n",
       "            <tr>\n",
       "                        <th id=\"T_f06ac_level0_row1\" class=\"row_heading level0 row1\" >KNeighbours</th>\n",
       "                        <td id=\"T_f06ac_row1_col0\" class=\"data row1 col0\" >1.000000</td>\n",
       "                        <td id=\"T_f06ac_row1_col1\" class=\"data row1 col1\" >0.360000</td>\n",
       "                        <td id=\"T_f06ac_row1_col2\" class=\"data row1 col2\" >0.975785</td>\n",
       "                        <td id=\"T_f06ac_row1_col3\" class=\"data row1 col3\" >0.997083</td>\n",
       "            </tr>\n",
       "            <tr>\n",
       "                        <th id=\"T_f06ac_level0_row2\" class=\"row_heading level0 row2\" >SVC</th>\n",
       "                        <td id=\"T_f06ac_row2_col0\" class=\"data row2 col0\" >0.984127</td>\n",
       "                        <td id=\"T_f06ac_row2_col1\" class=\"data row2 col1\" >0.826667</td>\n",
       "                        <td id=\"T_f06ac_row2_col2\" class=\"data row2 col2\" >0.975785</td>\n",
       "                        <td id=\"T_f06ac_row2_col3\" class=\"data row2 col3\" >0.997083</td>\n",
       "            </tr>\n",
       "            <tr>\n",
       "                        <th id=\"T_f06ac_level0_row3\" class=\"row_heading level0 row3\" >LogisticRegression</th>\n",
       "                        <td id=\"T_f06ac_row3_col0\" class=\"data row3 col0\" >1.000000</td>\n",
       "                        <td id=\"T_f06ac_row3_col1\" class=\"data row3 col1\" >0.820000</td>\n",
       "                        <td id=\"T_f06ac_row3_col2\" class=\"data row3 col2\" >0.975785</td>\n",
       "                        <td id=\"T_f06ac_row3_col3\" class=\"data row3 col3\" >0.997083</td>\n",
       "            </tr>\n",
       "    </tbody></table>"
      ],
      "text/plain": [
       "<pandas.io.formats.style.Styler at 0x265f8f99940>"
      ]
     },
     "execution_count": 115,
     "metadata": {},
     "output_type": "execute_result"
    }
   ],
   "source": [
    "cmap2 = ListedColormap([\"#E2CCFF\", \"#E598D8\"])\n",
    "Results.style.background_gradient(cmap = cmap2)"
   ]
  }
 ],
 "metadata": {
  "kernelspec": {
   "display_name": "Python 3",
   "language": "python",
   "name": "python3"
  },
  "language_info": {
   "codemirror_mode": {
    "name": "ipython",
    "version": 3
   },
   "file_extension": ".py",
   "mimetype": "text/x-python",
   "name": "python",
   "nbconvert_exporter": "python",
   "pygments_lexer": "ipython3",
   "version": "3.8.8"
  }
 },
 "nbformat": 4,
 "nbformat_minor": 5
}
